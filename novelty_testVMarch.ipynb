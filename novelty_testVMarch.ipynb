{
 "cells": [
  {
   "cell_type": "code",
   "execution_count": 3,
   "metadata": {},
   "outputs": [],
   "source": [
    "import  wheel, networkx, scipy, community, tqdm, pymongo, spacy, scispacy, pybind11, nmslib, wosfile, community, numpy, pandas, matplotlib, seaborn"
   ]
  },
  {
   "cell_type": "code",
   "execution_count": 2,
   "metadata": {},
   "outputs": [
    {
     "data": {
      "text/plain": [
       "<git.repo.base.Repo 'C:\\\\Users\\\\FlorenceBlandinieres\\\\OneDrive - Technopolis Group Ltd\\\\RD_pub_patentforecast\\\\test_Marchnovelpy\\\\.git'>"
      ]
     },
     "execution_count": 2,
     "metadata": {},
     "output_type": "execute_result"
    }
   ],
   "source": [
    "from git import Repo\n",
    "\n",
    "# specify the URL of the repository and the local path where you want to clone it\n",
    "repo_url = 'https://github.com/FlorenceBL/novelpy.git'\n",
    "local_path = 'C://Users//FlorenceBlandinieres//OneDrive - Technopolis Group Ltd//RD_pub_patentforecast//test_Marchnovelpy'\n",
    "# clone the repository\n",
    "Repo.clone_from(repo_url, local_path)"
   ]
  },
  {
   "cell_type": "code",
   "execution_count": 16,
   "metadata": {},
   "outputs": [],
   "source": [
    "#pip install pipreqs\n",
    "import pipreqs"
   ]
  },
  {
   "cell_type": "code",
   "execution_count": 17,
   "metadata": {},
   "outputs": [
    {
     "name": "stdout",
     "output_type": "stream",
     "text": [
      "Using pip 24.0 from c:\\Users\\FlorenceBlandinieres\\AppData\\Local\\Programs\\Python\\Python311\\Lib\\site-packages\\pip (python 3.11)Note: you may need to restart the kernel to use updated packages.\n",
      "\n"
     ]
    },
    {
     "name": "stderr",
     "output_type": "stream",
     "text": [
      "ERROR: Could not open requirements file: [Errno 2] No such file or directory: 'requirements.txt'\n"
     ]
    }
   ],
   "source": [
    "pip install -r requirements.txt -v"
   ]
  },
  {
   "cell_type": "code",
   "execution_count": 3,
   "metadata": {},
   "outputs": [],
   "source": [
    "import sys\n",
    "\n",
    "sys.path.append(local_path)"
   ]
  },
  {
   "cell_type": "code",
   "execution_count": 4,
   "metadata": {},
   "outputs": [],
   "source": [
    "from test_Marchnovelpy import novelpy"
   ]
  },
  {
   "cell_type": "code",
   "execution_count": 5,
   "metadata": {},
   "outputs": [
    {
     "name": "stderr",
     "output_type": "stream",
     "text": [
      "Citation_net_sample.zip: 100%|██████████| 191M/191M [00:46<00:00, 4.29MiB/s] \n",
      "Meshterms_sample.zip: 100%|██████████| 149M/149M [00:14<00:00, 11.2MiB/s] \n",
      "Ref_Journals_sample.zip: 100%|██████████| 16.0M/16.0M [00:01<00:00, 9.66MiB/s]\n",
      "Title_abs_sample.zip: 100%|██████████| 784M/784M [01:19<00:00, 10.3MiB/s] \n",
      "authors_sample.zip: 100%|██████████| 396M/396M [01:22<00:00, 5.04MiB/s] \n"
     ]
    }
   ],
   "source": [
    "from novelpy.utils.get_sample import download_sample\n",
    "\n",
    "download_sample() #exports to the folder where the script is located and creates a new folder Data > docs> datasets"
   ]
  },
  {
   "cell_type": "code",
   "execution_count": 6,
   "metadata": {},
   "outputs": [],
   "source": [
    "def get_library_modules(library_name):\n",
    "    library_modules = [module for module in sys.modules if module.startswith(library_name)]\n",
    "    return library_modules"
   ]
  },
  {
   "cell_type": "code",
   "execution_count": 7,
   "metadata": {},
   "outputs": [],
   "source": [
    "library_name = 'test_Marchnovelpy'\n",
    "\n",
    "# Import the library for which you want to check loaded modules\n",
    "import novelpy"
   ]
  },
  {
   "cell_type": "code",
   "execution_count": 8,
   "metadata": {},
   "outputs": [
    {
     "name": "stdout",
     "output_type": "stream",
     "text": [
      "test_Marchnovelpy\n",
      "test_Marchnovelpy.novelpy.indicators.Foster2015\n",
      "test_Marchnovelpy.novelpy.indicators.keyword_scores\n",
      "test_Marchnovelpy.novelpy.indicators.Lee2015\n",
      "test_Marchnovelpy.novelpy.indicators.Shibayama2021\n",
      "test_Marchnovelpy.novelpy.indicators.Author_proximity\n",
      "test_Marchnovelpy.novelpy.indicators.Uzzi2013\n",
      "test_Marchnovelpy.novelpy.indicators.Wang2017\n",
      "test_Marchnovelpy.novelpy.indicators.WuBuBornmann\n",
      "test_Marchnovelpy.novelpy.indicators\n",
      "test_Marchnovelpy.novelpy.utils.cooc_utils\n",
      "test_Marchnovelpy.novelpy.utils.embedding\n",
      "test_Marchnovelpy.novelpy.utils.get_sample\n",
      "test_Marchnovelpy.novelpy.utils.references\n",
      "test_Marchnovelpy.novelpy.utils.run_indicator_tools\n",
      "test_Marchnovelpy.novelpy.utils.companion\n",
      "test_Marchnovelpy.novelpy.utils.desc_stat\n",
      "test_Marchnovelpy.novelpy.utils.preprocess_disruptiveness\n",
      "test_Marchnovelpy.novelpy.utils.preprocess_authors\n",
      "test_Marchnovelpy.novelpy.utils\n",
      "test_Marchnovelpy.novelpy\n"
     ]
    }
   ],
   "source": [
    "library_modules = get_library_modules(library_name)\n",
    "\n",
    "# Print the list of modules specific to the library\n",
    "for module in library_modules:\n",
    "    print(module)"
   ]
  },
  {
   "cell_type": "code",
   "execution_count": 9,
   "metadata": {},
   "outputs": [
    {
     "name": "stderr",
     "output_type": "stream",
     "text": [
      "for every year:   0%|          | 0/21 [00:00<?, ?it/s]"
     ]
    },
    {
     "name": "stderr",
     "output_type": "stream",
     "text": [
      "Get item list, loop on every doc: 100%|██████████| 38874/38874 [00:00<00:00, 691845.79it/s]\n",
      "Get item list, loop on every doc: 100%|██████████| 40946/40946 [00:00<00:00, 773505.92it/s]\n",
      "Get item list, loop on every doc: 100%|██████████| 42302/42302 [00:00<00:00, 1000521.32it/s]\n",
      "Get item list, loop on every doc: 100%|██████████| 44803/44803 [00:00<00:00, 1133370.74it/s]\n",
      "Get item list, loop on every doc: 100%|██████████| 46779/46779 [00:00<00:00, 1152075.36it/s]\n",
      "Get item list, loop on every doc: 100%|██████████| 49872/49872 [00:00<00:00, 440377.28it/s]\n",
      "Get item list, loop on every doc: 100%|██████████| 52046/52046 [00:00<00:00, 1076504.17it/s]\n",
      "Get item list, loop on every doc: 100%|██████████| 54721/54721 [00:00<00:00, 1142094.78it/s]\n",
      "Get item list, loop on every doc: 100%|██████████| 58439/58439 [00:00<00:00, 1172515.90it/s]\n",
      "Get item list, loop on every doc: 100%|██████████| 62241/62241 [00:00<00:00, 1131251.06it/s]\n",
      "Get item list, loop on every doc: 100%|██████████| 67361/67361 [00:00<00:00, 1258973.38it/s]\n",
      "Get item list, loop on every doc: 100%|██████████| 70501/70501 [00:00<00:00, 1195521.29it/s]\n",
      "Get item list, loop on every doc: 100%|██████████| 75717/75717 [00:00<00:00, 924773.35it/s]\n",
      "Get item list, loop on every doc: 100%|██████████| 81228/81228 [00:00<00:00, 932144.06it/s]\n",
      "Get item list, loop on every doc: 100%|██████████| 84496/84496 [00:00<00:00, 1262110.57it/s]\n",
      "Get item list, loop on every doc: 100%|██████████| 89168/89168 [00:00<00:00, 1041373.11it/s]\n",
      "Get item list, loop on every doc: 100%|██████████| 93185/93185 [00:00<00:00, 1164192.56it/s]\n",
      "Get item list, loop on every doc: 100%|██████████| 100470/100470 [00:00<00:00, 1128982.43it/s]\n",
      "Get item list, loop on every doc: 100%|██████████| 103192/103192 [00:00<00:00, 1026049.87it/s]\n",
      "Get item list, loop on every doc: 100%|██████████| 106454/106454 [00:00<00:00, 1127822.55it/s]\n",
      "Get item list, loop on every doc: 100%|██████████| 106557/106557 [00:00<00:00, 1278425.53it/s]\n",
      "for every year: 100%|██████████| 21/21 [00:07<00:00,  2.99it/s]\n",
      "Populate matrix: 100%|██████████| 106454/106454 [00:01<00:00, 85373.11it/s]\n",
      "Populate matrix: 100%|██████████| 106557/106557 [00:01<00:00, 74557.06it/s]\n",
      "For each year in range: 100%|██████████| 2/2 [00:03<00:00,  1.78s/it]\n"
     ]
    }
   ],
   "source": [
    "#creates a set of cooccruences matrices for each year of publication in a distinct folder within the Data folder\n",
    "#we use sparse matrices, index2name.p and name2index.p are required to convert the name of items to index in our matrix before running Foster\n",
    "\n",
    "ref_cooc = novelpy.utils.cooc_utils.create_cooc(\n",
    "                 collection_name = \"Ref_Journals_sample\",\n",
    "                 year_var=\"year\",\n",
    "                 var = \"c04_referencelist\",\n",
    "                 sub_var = \"item\",\n",
    "                 time_window = range(2014,2016), #1995 to 2016\n",
    "                 weighted_network = True, self_loop = True)\n",
    "\n",
    "ref_cooc.main() "
   ]
  },
  {
   "cell_type": "code",
   "execution_count": 11,
   "metadata": {},
   "outputs": [
    {
     "name": "stderr",
     "output_type": "stream",
     "text": [
      "Computing indicator for window of time:   0%|          | 0/2 [00:00<?, ?it/s]"
     ]
    },
    {
     "name": "stdout",
     "output_type": "stream",
     "text": [
      "loading cooc for focal year 2014\n",
      "cooc loaded !\n",
      "loading items for papers in 2014\n"
     ]
    },
    {
     "name": "stderr",
     "output_type": "stream",
     "text": [
      "get_papers_item: 100%|██████████| 106454/106454 [00:00<00:00, 154303.11it/s]\n"
     ]
    },
    {
     "name": "stdout",
     "output_type": "stream",
     "text": [
      "items_loaded !\n",
      "Create empty df ...\n",
      "Empty df created !\n",
      "Compute community and community appartenance for 2014\n",
      "Get Partition of community ...\n",
      "Partition Done !\n",
      "Updating the score matrix ...\n",
      "Done ...\n",
      "Done !\n",
      "Saving score matrix ...\n",
      "Saved ...\n",
      "Getting score per paper ...\n"
     ]
    },
    {
     "name": "stderr",
     "output_type": "stream",
     "text": [
      "start: 100%|██████████| 106454/106454 [00:01<00:00, 72824.59it/s]\n",
      "Computing indicator for window of time:  50%|█████     | 1/2 [03:42<03:42, 222.22s/it]"
     ]
    },
    {
     "name": "stdout",
     "output_type": "stream",
     "text": [
      "saved\n",
      "Done !\n",
      "loading cooc for focal year 2015\n",
      "cooc loaded !\n",
      "loading items for papers in 2015\n"
     ]
    },
    {
     "name": "stderr",
     "output_type": "stream",
     "text": [
      "get_papers_item: 100%|██████████| 106557/106557 [00:00<00:00, 447648.69it/s]\n"
     ]
    },
    {
     "name": "stdout",
     "output_type": "stream",
     "text": [
      "items_loaded !\n",
      "Create empty df ...\n",
      "Empty df created !\n",
      "Compute community and community appartenance for 2015\n",
      "Get Partition of community ...\n",
      "Partition Done !\n",
      "Updating the score matrix ...\n",
      "Done ...\n",
      "Done !\n",
      "Saving score matrix ...\n",
      "Saved ...\n",
      "Getting score per paper ...\n"
     ]
    },
    {
     "name": "stderr",
     "output_type": "stream",
     "text": [
      "start: 100%|██████████| 106557/106557 [00:01<00:00, 78812.46it/s]\n",
      "Computing indicator for window of time: 100%|██████████| 2/2 [08:22<00:00, 251.45s/it]"
     ]
    },
    {
     "name": "stdout",
     "output_type": "stream",
     "text": [
      "saved\n",
      "Done !\n"
     ]
    },
    {
     "name": "stderr",
     "output_type": "stream",
     "text": [
      "\n"
     ]
    }
   ],
   "source": [
    "import tqdm\n",
    "import community\n",
    "\n",
    "\n",
    "#here computes the novelty indicator for a 11 years: 2000-2011\n",
    "for focal_year in tqdm.tqdm(range(2014,2016), desc = \"Computing indicator for window of time\"):\n",
    "    Foster = novelpy.indicators.Foster2015(collection_name = \"Ref_Journals_sample\",\n",
    "                                           id_variable = 'PMID',\n",
    "                                           year_variable = 'year',\n",
    "                                           variable = \"c04_referencelist\",\n",
    "                                           sub_variable = \"item\",\n",
    "                                           focal_year = focal_year,\n",
    "                                           starting_year = 1995, #1995 initially\n",
    "                                           community_algorithm = \"Louvain\",\n",
    "                                           density = True)\n",
    "    Foster.get_indicator() #exports to the folder where the script is located and creates a folder Results. Then adds a subfolder with \"foster\" indicating which scoring is stored within"
   ]
  },
  {
   "cell_type": "code",
   "execution_count": null,
   "metadata": {},
   "outputs": [],
   "source": [
    "# Results are stored for a given publication year and provides a scoring of novelty in a dictionnary such:\n",
    "#{\"PMID\": 11724777, \"c04_referencelist_foster\": {\"scores_array\": [1.0, 0.0, 0.0, 1.0, 1.0, 1.0, 1.0, 0.0, 1.0, 1.0], \"score\": {\"novelty\": 0.7}}, \"year\": 2002}"
   ]
  },
  {
   "cell_type": "code",
   "execution_count": 12,
   "metadata": {},
   "outputs": [
    {
     "name": "stderr",
     "output_type": "stream",
     "text": [
      "C:\\/Users//FlorenceBlandinieres//OneDrive - Technopolis Group Ltd//RD_pub_patentforecast//test_Marchnovelpy\\novelpy\\utils\\companion.py:717: FutureWarning: The behavior of DataFrame concatenation with empty or all-NA entries is deprecated. In a future version, this will no longer exclude empty or all-NA columns when determining the result dtypes. To retain the old behavior, exclude the relevant entries before the concat operation.\n",
      "  self.df = pd.concat([self.df,df_temp], ignore_index=True)\n",
      "c:\\Users\\FlorenceBlandinieres\\AppData\\Local\\Programs\\Python\\Python311\\Lib\\site-packages\\seaborn\\_oldcore.py:1498: FutureWarning: is_categorical_dtype is deprecated and will be removed in a future version. Use isinstance(dtype, CategoricalDtype) instead\n",
      "  if pd.api.types.is_categorical_dtype(vector):\n",
      "c:\\Users\\FlorenceBlandinieres\\AppData\\Local\\Programs\\Python\\Python311\\Lib\\site-packages\\seaborn\\_oldcore.py:1498: FutureWarning: is_categorical_dtype is deprecated and will be removed in a future version. Use isinstance(dtype, CategoricalDtype) instead\n",
      "  if pd.api.types.is_categorical_dtype(vector):\n",
      "c:\\Users\\FlorenceBlandinieres\\AppData\\Local\\Programs\\Python\\Python311\\Lib\\site-packages\\seaborn\\_oldcore.py:1119: FutureWarning: use_inf_as_na option is deprecated and will be removed in a future version. Convert inf values to NaN before operating instead.\n",
      "  with pd.option_context('mode.use_inf_as_na', True):\n",
      "c:\\Users\\FlorenceBlandinieres\\AppData\\Local\\Programs\\Python\\Python311\\Lib\\site-packages\\seaborn\\_oldcore.py:1119: FutureWarning: use_inf_as_na option is deprecated and will be removed in a future version. Convert inf values to NaN before operating instead.\n",
      "  with pd.option_context('mode.use_inf_as_na', True):\n"
     ]
    },
    {
     "data": {
      "image/png": "[encoded data removed]",
      "text/plain": [
       "<Figure size 2400x1600 with 2 Axes>"
      ]
     },
     "metadata": {},
     "output_type": "display_data"
    }
   ],
   "source": [
    "import novelpy\n",
    "\n",
    "# Trend\n",
    "trend = novelpy.utils.novelty_trend(year_range = range(2014,2016,1),\n",
    "              variables = [\"c04_referencelist\"],\n",
    "              id_variable = \"PMID\",\n",
    "              indicators = [\"foster\"])\n",
    "\n",
    "trend.get_plot_trend()"
   ]
  },
  {
   "cell_type": "code",
   "execution_count": 28,
   "metadata": {},
   "outputs": [
    {
     "name": "stderr",
     "output_type": "stream",
     "text": [
      "C:\\/Users//FlorenceBlandinieres//OneDrive - Technopolis Group Ltd//RD_pub_patentforecast//FB_novelty\\novelpy\\utils\\companion.py:233: FutureWarning: The behavior of DataFrame concatenation with empty or all-NA entries is deprecated. In a future version, this will no longer exclude empty or all-NA columns when determining the result dtypes. To retain the old behavior, exclude the relevant entries before the concat operation.\n",
      "  self.df = pd.concat([self.df,df_temp], ignore_index=True)\n",
      "c:\\Users\\FlorenceBlandinieres\\AppData\\Local\\Programs\\Python\\Python311\\Lib\\site-packages\\seaborn\\_oldcore.py:1498: FutureWarning: is_categorical_dtype is deprecated and will be removed in a future version. Use isinstance(dtype, CategoricalDtype) instead\n",
      "  if pd.api.types.is_categorical_dtype(vector):\n",
      "c:\\Users\\FlorenceBlandinieres\\AppData\\Local\\Programs\\Python\\Python311\\Lib\\site-packages\\seaborn\\_oldcore.py:1119: FutureWarning: use_inf_as_na option is deprecated and will be removed in a future version. Convert inf values to NaN before operating instead.\n",
      "  with pd.option_context('mode.use_inf_as_na', True):\n"
     ]
    },
    {
     "data": {
      "image/png": "[encoded data removed]",
      "text/plain": [
       "<Figure size 2400x1600 with 2 Axes>"
      ]
     },
     "metadata": {},
     "output_type": "display_data"
    }
   ],
   "source": [
    "import novelpy\n",
    "\n",
    "# Easy plot by calling the data just generated, different but issue with mongodb...\n",
    "#{\"PMID\": 14525908, \"c04_referencelist_foster\": {\"scores_array\": [1.0, 0.0, 1.0], \"score\": {\"novelty\": 0.6666666666666666}}, \"year\": 2004}\n",
    "dist = novelpy.utils.plot_dist(\n",
    "                               doc_id = 20100198, #here last pmid from the json file linked to 2010\n",
    "                               doc_year = 2010,\n",
    "                               id_variable = \"PMID\",\n",
    "                               variables = [\"c04_referencelist\"],\n",
    "                               indicators = [\"foster\"])\n",
    "dist.get_plot_dist()"
   ]
  },
  {
   "cell_type": "code",
   "execution_count": null,
   "metadata": {},
   "outputs": [],
   "source": [
    "import os\n",
    "import json\n",
    "\n",
    "# Specify the directory where your JSON files are stored\n",
    "json_directory = \"/path/to/json/files\" #to change\n",
    "\n",
    "# Dictionary to store novelty scores for each PMID\n",
    "novelty_scores_dict = {}\n",
    "\n",
    "# Iterate through each JSON file in the directory\n",
    "for filename in os.listdir(json_directory):\n",
    "    if filename.endswith(\".json\"):\n",
    "        file_path = os.path.join(json_directory, filename)\n",
    "\n",
    "        # Load JSON data from the file\n",
    "        with open(file_path, 'r') as file:\n",
    "            json_data = json.load(file)\n",
    "\n",
    "        # Iterate through each dictionary in the JSON data\n",
    "        for entry in json_data:\n",
    "            pmid = entry[\"PMID\"]\n",
    "            novelty_score = entry[\"c04_referencelist_foster\"][\"score\"][\"novelty\"]\n",
    "\n",
    "            # Add the novelty score to the dictionary for the corresponding PMID\n",
    "            if pmid not in novelty_scores_dict:\n",
    "                novelty_scores_dict[pmid] = []\n",
    "\n",
    "            novelty_scores_dict[pmid].append(novelty_score)"
   ]
  },
  {
   "cell_type": "code",
   "execution_count": 33,
   "metadata": {},
   "outputs": [
    {
     "name": "stderr",
     "output_type": "stream",
     "text": [
      "Computing indicator for window of time:   0%|          | 0/11 [00:00<?, ?it/s]"
     ]
    },
    {
     "name": "stdout",
     "output_type": "stream",
     "text": [
      "loading cooc for focal year 2000\n",
      "cooc loaded !\n",
      "loading items for papers in 2000\n"
     ]
    },
    {
     "name": "stderr",
     "output_type": "stream",
     "text": [
      "get_papers_item: 100%|██████████| 49872/49872 [00:00<00:00, 1062104.67it/s]\n"
     ]
    },
    {
     "name": "stdout",
     "output_type": "stream",
     "text": [
      "items_loaded !\n",
      "Creating sample ...\n"
     ]
    },
    {
     "name": "stderr",
     "output_type": "stream",
     "text": []
    },
    {
     "name": "stdout",
     "output_type": "stream",
     "text": [
      "start sampling\n"
     ]
    },
    {
     "name": "stderr",
     "output_type": "stream",
     "text": []
    },
    {
     "name": "stdout",
     "output_type": "stream",
     "text": [
      "start sampling\n"
     ]
    },
    {
     "name": "stderr",
     "output_type": "stream",
     "text": []
    },
    {
     "name": "stdout",
     "output_type": "stream",
     "text": [
      "start sampling\n"
     ]
    },
    {
     "name": "stderr",
     "output_type": "stream",
     "text": []
    },
    {
     "name": "stdout",
     "output_type": "stream",
     "text": [
      "start sampling\n"
     ]
    },
    {
     "name": "stderr",
     "output_type": "stream",
     "text": []
    },
    {
     "name": "stdout",
     "output_type": "stream",
     "text": [
      "start sampling\n"
     ]
    },
    {
     "name": "stderr",
     "output_type": "stream",
     "text": []
    },
    {
     "name": "stdout",
     "output_type": "stream",
     "text": [
      "start sampling\n"
     ]
    },
    {
     "name": "stderr",
     "output_type": "stream",
     "text": []
    },
    {
     "name": "stdout",
     "output_type": "stream",
     "text": [
      "start sampling\n"
     ]
    },
    {
     "name": "stderr",
     "output_type": "stream",
     "text": []
    },
    {
     "name": "stdout",
     "output_type": "stream",
     "text": [
      "start sampling\n"
     ]
    },
    {
     "name": "stderr",
     "output_type": "stream",
     "text": []
    },
    {
     "name": "stdout",
     "output_type": "stream",
     "text": [
      "start sampling\n"
     ]
    },
    {
     "name": "stderr",
     "output_type": "stream",
     "text": []
    },
    {
     "name": "stdout",
     "output_type": "stream",
     "text": [
      "start sampling\n"
     ]
    },
    {
     "name": "stderr",
     "output_type": "stream",
     "text": []
    },
    {
     "name": "stdout",
     "output_type": "stream",
     "text": [
      "start sampling\n"
     ]
    },
    {
     "name": "stderr",
     "output_type": "stream",
     "text": []
    },
    {
     "name": "stdout",
     "output_type": "stream",
     "text": [
      "start sampling\n"
     ]
    },
    {
     "name": "stderr",
     "output_type": "stream",
     "text": []
    },
    {
     "name": "stdout",
     "output_type": "stream",
     "text": [
      "start sampling\n"
     ]
    },
    {
     "name": "stderr",
     "output_type": "stream",
     "text": []
    },
    {
     "name": "stdout",
     "output_type": "stream",
     "text": [
      "start sampling\n"
     ]
    },
    {
     "name": "stderr",
     "output_type": "stream",
     "text": []
    },
    {
     "name": "stdout",
     "output_type": "stream",
     "text": [
      "start sampling\n"
     ]
    },
    {
     "name": "stderr",
     "output_type": "stream",
     "text": []
    },
    {
     "name": "stdout",
     "output_type": "stream",
     "text": [
      "start sampling\n"
     ]
    },
    {
     "name": "stderr",
     "output_type": "stream",
     "text": []
    },
    {
     "name": "stdout",
     "output_type": "stream",
     "text": [
      "start sampling\n"
     ]
    },
    {
     "name": "stderr",
     "output_type": "stream",
     "text": []
    },
    {
     "name": "stdout",
     "output_type": "stream",
     "text": [
      "start sampling\n"
     ]
    },
    {
     "name": "stderr",
     "output_type": "stream",
     "text": []
    },
    {
     "name": "stdout",
     "output_type": "stream",
     "text": [
      "start sampling\n"
     ]
    },
    {
     "name": "stderr",
     "output_type": "stream",
     "text": []
    },
    {
     "name": "stdout",
     "output_type": "stream",
     "text": [
      "start sampling\n"
     ]
    },
    {
     "name": "stderr",
     "output_type": "stream",
     "text": [
      "Create sample network: 100%|██████████| 20/20 [01:08<00:00,  3.44s/it]\n"
     ]
    },
    {
     "name": "stdout",
     "output_type": "stream",
     "text": [
      "Sample created !\n",
      "Getting score per year ...\n"
     ]
    },
    {
     "name": "stderr",
     "output_type": "stream",
     "text": [
      "Get sample network: 100%|██████████| 20/20 [00:00<00:00, 613.48it/s]\n",
      "100%|██████████| 20/20 [00:01<00:00, 15.86it/s]\n",
      "100%|██████████| 850661/850661 [07:51<00:00, 1803.67it/s]\n"
     ]
    },
    {
     "name": "stdout",
     "output_type": "stream",
     "text": [
      "Matrice done !\n",
      "Getting score per paper ...\n"
     ]
    },
    {
     "name": "stderr",
     "output_type": "stream",
     "text": [
      "start: 100%|██████████| 49872/49872 [00:06<00:00, 7257.73it/s]\n",
      "Computing indicator for window of time:   9%|▉         | 1/11 [09:44<1:37:21, 584.15s/it]"
     ]
    },
    {
     "name": "stdout",
     "output_type": "stream",
     "text": [
      "saved\n",
      "Done !\n",
      "loading cooc for focal year 2001\n",
      "cooc loaded !\n",
      "loading items for papers in 2001\n"
     ]
    },
    {
     "name": "stderr",
     "output_type": "stream",
     "text": [
      "get_papers_item: 100%|██████████| 52046/52046 [00:00<00:00, 841123.36it/s]\n"
     ]
    },
    {
     "name": "stdout",
     "output_type": "stream",
     "text": [
      "items_loaded !\n",
      "Creating sample ...\n"
     ]
    },
    {
     "name": "stderr",
     "output_type": "stream",
     "text": []
    },
    {
     "name": "stdout",
     "output_type": "stream",
     "text": [
      "start sampling\n"
     ]
    },
    {
     "name": "stderr",
     "output_type": "stream",
     "text": []
    },
    {
     "name": "stdout",
     "output_type": "stream",
     "text": [
      "start sampling\n"
     ]
    },
    {
     "name": "stderr",
     "output_type": "stream",
     "text": []
    },
    {
     "name": "stdout",
     "output_type": "stream",
     "text": [
      "start sampling\n"
     ]
    },
    {
     "name": "stderr",
     "output_type": "stream",
     "text": []
    },
    {
     "name": "stdout",
     "output_type": "stream",
     "text": [
      "start sampling\n"
     ]
    },
    {
     "name": "stderr",
     "output_type": "stream",
     "text": []
    },
    {
     "name": "stdout",
     "output_type": "stream",
     "text": [
      "start sampling\n"
     ]
    },
    {
     "name": "stderr",
     "output_type": "stream",
     "text": []
    },
    {
     "name": "stdout",
     "output_type": "stream",
     "text": [
      "start sampling\n"
     ]
    },
    {
     "name": "stderr",
     "output_type": "stream",
     "text": []
    },
    {
     "name": "stdout",
     "output_type": "stream",
     "text": [
      "start sampling\n"
     ]
    },
    {
     "name": "stderr",
     "output_type": "stream",
     "text": []
    },
    {
     "name": "stdout",
     "output_type": "stream",
     "text": [
      "start sampling\n"
     ]
    },
    {
     "name": "stderr",
     "output_type": "stream",
     "text": []
    },
    {
     "name": "stdout",
     "output_type": "stream",
     "text": [
      "start sampling\n"
     ]
    },
    {
     "name": "stderr",
     "output_type": "stream",
     "text": []
    },
    {
     "name": "stdout",
     "output_type": "stream",
     "text": [
      "start sampling\n"
     ]
    },
    {
     "name": "stderr",
     "output_type": "stream",
     "text": []
    },
    {
     "name": "stdout",
     "output_type": "stream",
     "text": [
      "start sampling\n"
     ]
    },
    {
     "name": "stderr",
     "output_type": "stream",
     "text": []
    },
    {
     "name": "stdout",
     "output_type": "stream",
     "text": [
      "start sampling\n"
     ]
    },
    {
     "name": "stderr",
     "output_type": "stream",
     "text": []
    },
    {
     "name": "stdout",
     "output_type": "stream",
     "text": [
      "start sampling\n"
     ]
    },
    {
     "name": "stderr",
     "output_type": "stream",
     "text": []
    },
    {
     "name": "stdout",
     "output_type": "stream",
     "text": [
      "start sampling\n"
     ]
    },
    {
     "name": "stderr",
     "output_type": "stream",
     "text": []
    },
    {
     "name": "stdout",
     "output_type": "stream",
     "text": [
      "start sampling\n"
     ]
    },
    {
     "name": "stderr",
     "output_type": "stream",
     "text": []
    },
    {
     "name": "stdout",
     "output_type": "stream",
     "text": [
      "start sampling\n"
     ]
    },
    {
     "name": "stderr",
     "output_type": "stream",
     "text": []
    },
    {
     "name": "stdout",
     "output_type": "stream",
     "text": [
      "start sampling\n"
     ]
    },
    {
     "name": "stderr",
     "output_type": "stream",
     "text": []
    },
    {
     "name": "stdout",
     "output_type": "stream",
     "text": [
      "start sampling\n"
     ]
    },
    {
     "name": "stderr",
     "output_type": "stream",
     "text": []
    },
    {
     "name": "stdout",
     "output_type": "stream",
     "text": [
      "start sampling\n"
     ]
    },
    {
     "name": "stderr",
     "output_type": "stream",
     "text": []
    },
    {
     "name": "stdout",
     "output_type": "stream",
     "text": [
      "start sampling\n"
     ]
    },
    {
     "name": "stderr",
     "output_type": "stream",
     "text": [
      "Create sample network: 100%|██████████| 20/20 [01:36<00:00,  4.80s/it]\n"
     ]
    },
    {
     "name": "stdout",
     "output_type": "stream",
     "text": [
      "Sample created !\n",
      "Getting score per year ...\n"
     ]
    },
    {
     "name": "stderr",
     "output_type": "stream",
     "text": [
      "Get sample network: 100%|██████████| 20/20 [00:00<00:00, 334.27it/s]\n",
      "100%|██████████| 20/20 [00:01<00:00, 10.00it/s]\n",
      "100%|██████████| 885620/885620 [08:58<00:00, 1645.74it/s]\n"
     ]
    },
    {
     "name": "stdout",
     "output_type": "stream",
     "text": [
      "Matrice done !\n",
      "Getting score per paper ...\n"
     ]
    },
    {
     "name": "stderr",
     "output_type": "stream",
     "text": [
      "start: 100%|██████████| 52046/52046 [00:05<00:00, 10095.25it/s]\n",
      "Computing indicator for window of time:  18%|█▊        | 2/11 [20:55<1:35:20, 635.62s/it]"
     ]
    },
    {
     "name": "stdout",
     "output_type": "stream",
     "text": [
      "saved\n",
      "Done !\n",
      "loading cooc for focal year 2002\n",
      "cooc loaded !\n",
      "loading items for papers in 2002\n"
     ]
    },
    {
     "name": "stderr",
     "output_type": "stream",
     "text": [
      "get_papers_item: 100%|██████████| 54721/54721 [00:00<00:00, 72672.83it/s]\n"
     ]
    },
    {
     "name": "stdout",
     "output_type": "stream",
     "text": [
      "items_loaded !\n",
      "Creating sample ...\n"
     ]
    },
    {
     "name": "stderr",
     "output_type": "stream",
     "text": []
    },
    {
     "name": "stdout",
     "output_type": "stream",
     "text": [
      "start sampling\n"
     ]
    },
    {
     "name": "stderr",
     "output_type": "stream",
     "text": []
    },
    {
     "name": "stdout",
     "output_type": "stream",
     "text": [
      "start sampling\n"
     ]
    },
    {
     "name": "stderr",
     "output_type": "stream",
     "text": []
    },
    {
     "name": "stdout",
     "output_type": "stream",
     "text": [
      "start sampling\n"
     ]
    },
    {
     "name": "stderr",
     "output_type": "stream",
     "text": []
    },
    {
     "name": "stdout",
     "output_type": "stream",
     "text": [
      "start sampling\n"
     ]
    },
    {
     "name": "stderr",
     "output_type": "stream",
     "text": []
    },
    {
     "name": "stdout",
     "output_type": "stream",
     "text": [
      "start sampling\n"
     ]
    },
    {
     "name": "stderr",
     "output_type": "stream",
     "text": []
    },
    {
     "name": "stdout",
     "output_type": "stream",
     "text": [
      "start sampling\n"
     ]
    },
    {
     "name": "stderr",
     "output_type": "stream",
     "text": []
    },
    {
     "name": "stdout",
     "output_type": "stream",
     "text": [
      "start sampling\n"
     ]
    },
    {
     "name": "stderr",
     "output_type": "stream",
     "text": []
    },
    {
     "name": "stdout",
     "output_type": "stream",
     "text": [
      "start sampling\n"
     ]
    },
    {
     "name": "stderr",
     "output_type": "stream",
     "text": []
    },
    {
     "name": "stdout",
     "output_type": "stream",
     "text": [
      "start sampling\n"
     ]
    },
    {
     "name": "stderr",
     "output_type": "stream",
     "text": []
    },
    {
     "name": "stdout",
     "output_type": "stream",
     "text": [
      "start sampling\n"
     ]
    },
    {
     "name": "stderr",
     "output_type": "stream",
     "text": []
    },
    {
     "name": "stdout",
     "output_type": "stream",
     "text": [
      "start sampling\n"
     ]
    },
    {
     "name": "stderr",
     "output_type": "stream",
     "text": []
    },
    {
     "name": "stdout",
     "output_type": "stream",
     "text": [
      "start sampling\n"
     ]
    },
    {
     "name": "stderr",
     "output_type": "stream",
     "text": []
    },
    {
     "name": "stdout",
     "output_type": "stream",
     "text": [
      "start sampling\n"
     ]
    },
    {
     "name": "stderr",
     "output_type": "stream",
     "text": []
    },
    {
     "name": "stdout",
     "output_type": "stream",
     "text": [
      "start sampling\n"
     ]
    },
    {
     "name": "stderr",
     "output_type": "stream",
     "text": []
    },
    {
     "name": "stdout",
     "output_type": "stream",
     "text": [
      "start sampling\n"
     ]
    },
    {
     "name": "stderr",
     "output_type": "stream",
     "text": []
    },
    {
     "name": "stdout",
     "output_type": "stream",
     "text": [
      "start sampling\n"
     ]
    },
    {
     "name": "stderr",
     "output_type": "stream",
     "text": []
    },
    {
     "name": "stdout",
     "output_type": "stream",
     "text": [
      "start sampling\n"
     ]
    },
    {
     "name": "stderr",
     "output_type": "stream",
     "text": []
    },
    {
     "name": "stdout",
     "output_type": "stream",
     "text": [
      "start sampling\n"
     ]
    },
    {
     "name": "stderr",
     "output_type": "stream",
     "text": []
    },
    {
     "name": "stdout",
     "output_type": "stream",
     "text": [
      "start sampling\n"
     ]
    },
    {
     "name": "stderr",
     "output_type": "stream",
     "text": []
    },
    {
     "name": "stdout",
     "output_type": "stream",
     "text": [
      "start sampling\n"
     ]
    },
    {
     "name": "stderr",
     "output_type": "stream",
     "text": [
      "Create sample network: 100%|██████████| 20/20 [01:35<00:00,  4.76s/it]\n"
     ]
    },
    {
     "name": "stdout",
     "output_type": "stream",
     "text": [
      "Sample created !\n",
      "Getting score per year ...\n"
     ]
    },
    {
     "name": "stderr",
     "output_type": "stream",
     "text": [
      "Get sample network: 100%|██████████| 20/20 [00:00<00:00, 448.70it/s]\n",
      "100%|██████████| 20/20 [00:01<00:00, 11.55it/s]\n",
      "100%|██████████| 1041814/1041814 [09:50<00:00, 1765.16it/s]\n"
     ]
    },
    {
     "name": "stdout",
     "output_type": "stream",
     "text": [
      "Matrice done !\n",
      "Getting score per paper ...\n"
     ]
    },
    {
     "name": "stderr",
     "output_type": "stream",
     "text": [
      "start: 100%|██████████| 54721/54721 [00:04<00:00, 12972.32it/s]\n",
      "Computing indicator for window of time:  27%|██▋       | 3/11 [32:51<1:29:38, 672.36s/it]"
     ]
    },
    {
     "name": "stdout",
     "output_type": "stream",
     "text": [
      "saved\n",
      "Done !\n",
      "loading cooc for focal year 2003\n",
      "cooc loaded !\n",
      "loading items for papers in 2003\n"
     ]
    },
    {
     "name": "stderr",
     "output_type": "stream",
     "text": [
      "get_papers_item: 100%|██████████| 58439/58439 [00:00<00:00, 666856.02it/s]\n"
     ]
    },
    {
     "name": "stdout",
     "output_type": "stream",
     "text": [
      "items_loaded !\n",
      "Creating sample ...\n"
     ]
    },
    {
     "name": "stderr",
     "output_type": "stream",
     "text": []
    },
    {
     "name": "stdout",
     "output_type": "stream",
     "text": [
      "start sampling\n"
     ]
    },
    {
     "name": "stderr",
     "output_type": "stream",
     "text": []
    },
    {
     "name": "stdout",
     "output_type": "stream",
     "text": [
      "start sampling\n"
     ]
    },
    {
     "name": "stderr",
     "output_type": "stream",
     "text": []
    },
    {
     "name": "stdout",
     "output_type": "stream",
     "text": [
      "start sampling\n"
     ]
    },
    {
     "name": "stderr",
     "output_type": "stream",
     "text": []
    },
    {
     "name": "stdout",
     "output_type": "stream",
     "text": [
      "start sampling\n"
     ]
    },
    {
     "name": "stderr",
     "output_type": "stream",
     "text": []
    },
    {
     "name": "stdout",
     "output_type": "stream",
     "text": [
      "start sampling\n"
     ]
    },
    {
     "name": "stderr",
     "output_type": "stream",
     "text": []
    },
    {
     "name": "stdout",
     "output_type": "stream",
     "text": [
      "start sampling\n"
     ]
    },
    {
     "name": "stderr",
     "output_type": "stream",
     "text": []
    },
    {
     "name": "stdout",
     "output_type": "stream",
     "text": [
      "start sampling\n"
     ]
    },
    {
     "name": "stderr",
     "output_type": "stream",
     "text": []
    },
    {
     "name": "stdout",
     "output_type": "stream",
     "text": [
      "start sampling\n"
     ]
    },
    {
     "name": "stderr",
     "output_type": "stream",
     "text": []
    },
    {
     "name": "stdout",
     "output_type": "stream",
     "text": [
      "start sampling\n"
     ]
    },
    {
     "name": "stderr",
     "output_type": "stream",
     "text": []
    },
    {
     "name": "stdout",
     "output_type": "stream",
     "text": [
      "start sampling\n"
     ]
    },
    {
     "name": "stderr",
     "output_type": "stream",
     "text": []
    },
    {
     "name": "stdout",
     "output_type": "stream",
     "text": [
      "start sampling\n"
     ]
    },
    {
     "name": "stderr",
     "output_type": "stream",
     "text": []
    },
    {
     "name": "stdout",
     "output_type": "stream",
     "text": [
      "start sampling\n"
     ]
    },
    {
     "name": "stderr",
     "output_type": "stream",
     "text": []
    },
    {
     "name": "stdout",
     "output_type": "stream",
     "text": [
      "start sampling\n"
     ]
    },
    {
     "name": "stderr",
     "output_type": "stream",
     "text": []
    },
    {
     "name": "stdout",
     "output_type": "stream",
     "text": [
      "start sampling\n"
     ]
    },
    {
     "name": "stderr",
     "output_type": "stream",
     "text": []
    },
    {
     "name": "stdout",
     "output_type": "stream",
     "text": [
      "start sampling\n"
     ]
    },
    {
     "name": "stderr",
     "output_type": "stream",
     "text": []
    },
    {
     "name": "stdout",
     "output_type": "stream",
     "text": [
      "start sampling\n"
     ]
    },
    {
     "name": "stderr",
     "output_type": "stream",
     "text": []
    },
    {
     "name": "stdout",
     "output_type": "stream",
     "text": [
      "start sampling\n"
     ]
    },
    {
     "name": "stderr",
     "output_type": "stream",
     "text": []
    },
    {
     "name": "stdout",
     "output_type": "stream",
     "text": [
      "start sampling\n"
     ]
    },
    {
     "name": "stderr",
     "output_type": "stream",
     "text": []
    },
    {
     "name": "stdout",
     "output_type": "stream",
     "text": [
      "start sampling\n"
     ]
    },
    {
     "name": "stderr",
     "output_type": "stream",
     "text": []
    },
    {
     "name": "stdout",
     "output_type": "stream",
     "text": [
      "start sampling\n"
     ]
    },
    {
     "name": "stderr",
     "output_type": "stream",
     "text": [
      "Create sample network: 100%|██████████| 20/20 [01:36<00:00,  4.80s/it]\n"
     ]
    },
    {
     "name": "stdout",
     "output_type": "stream",
     "text": [
      "Sample created !\n",
      "Getting score per year ...\n"
     ]
    },
    {
     "name": "stderr",
     "output_type": "stream",
     "text": [
      "Get sample network: 100%|██████████| 20/20 [00:00<00:00, 2465.71it/s]\n",
      "100%|██████████| 20/20 [00:01<00:00, 17.70it/s]\n",
      " 61%|██████▏   | 639962/1044227 [04:11<02:38, 2549.31it/s]\n",
      "Computing indicator for window of time:  27%|██▋       | 3/11 [38:45<1:43:22, 775.28s/it]\n"
     ]
    },
    {
     "ename": "KeyboardInterrupt",
     "evalue": "",
     "output_type": "error",
     "traceback": [
      "\u001b[1;31m---------------------------------------------------------------------------\u001b[0m",
      "\u001b[1;31mKeyboardInterrupt\u001b[0m                         Traceback (most recent call last)",
      "Cell \u001b[1;32mIn[33], line 9\u001b[0m\n\u001b[0;32m      1\u001b[0m \u001b[38;5;28;01mfor\u001b[39;00m focal_year \u001b[38;5;129;01min\u001b[39;00m tqdm\u001b[38;5;241m.\u001b[39mtqdm(\u001b[38;5;28mrange\u001b[39m(\u001b[38;5;241m2000\u001b[39m,\u001b[38;5;241m2011\u001b[39m), desc \u001b[38;5;241m=\u001b[39m \u001b[38;5;124m\"\u001b[39m\u001b[38;5;124mComputing indicator for window of time\u001b[39m\u001b[38;5;124m\"\u001b[39m):\n\u001b[0;32m      2\u001b[0m     Uzzi \u001b[38;5;241m=\u001b[39m novelpy\u001b[38;5;241m.\u001b[39mindicators\u001b[38;5;241m.\u001b[39mUzzi2013(collection_name \u001b[38;5;241m=\u001b[39m \u001b[38;5;124m\"\u001b[39m\u001b[38;5;124mRef_Journals_sample\u001b[39m\u001b[38;5;124m\"\u001b[39m,\n\u001b[0;32m      3\u001b[0m                                            id_variable \u001b[38;5;241m=\u001b[39m \u001b[38;5;124m'\u001b[39m\u001b[38;5;124mPMID\u001b[39m\u001b[38;5;124m'\u001b[39m,\n\u001b[0;32m      4\u001b[0m                                            year_variable \u001b[38;5;241m=\u001b[39m \u001b[38;5;124m'\u001b[39m\u001b[38;5;124myear\u001b[39m\u001b[38;5;124m'\u001b[39m,\n\u001b[1;32m   (...)\u001b[0m\n\u001b[0;32m      7\u001b[0m                                            focal_year \u001b[38;5;241m=\u001b[39m focal_year,\n\u001b[0;32m      8\u001b[0m                                            density \u001b[38;5;241m=\u001b[39m \u001b[38;5;28;01mTrue\u001b[39;00m)\n\u001b[1;32m----> 9\u001b[0m     \u001b[43mUzzi\u001b[49m\u001b[38;5;241;43m.\u001b[39;49m\u001b[43mget_indicator\u001b[49m\u001b[43m(\u001b[49m\u001b[43m)\u001b[49m\n",
      "File \u001b[1;32mC:\\/Users//FlorenceBlandinieres//OneDrive - Technopolis Group Ltd//RD_pub_patentforecast//FB_novelty\\novelpy\\indicators\\Uzzi2013.py:392\u001b[0m, in \u001b[0;36mUzzi2013.get_indicator\u001b[1;34m(self)\u001b[0m\n\u001b[0;32m    390\u001b[0m \u001b[38;5;28mprint\u001b[39m(\u001b[38;5;124m\"\u001b[39m\u001b[38;5;124mSample created !\u001b[39m\u001b[38;5;124m\"\u001b[39m)\n\u001b[0;32m    391\u001b[0m \u001b[38;5;28mprint\u001b[39m(\u001b[38;5;124m'\u001b[39m\u001b[38;5;124mGetting score per year ...\u001b[39m\u001b[38;5;124m'\u001b[39m)  \n\u001b[1;32m--> 392\u001b[0m \u001b[38;5;28;43mself\u001b[39;49m\u001b[38;5;241;43m.\u001b[39;49m\u001b[43mcompute_comb_score\u001b[49m\u001b[43m(\u001b[49m\u001b[43m)\u001b[49m\n\u001b[0;32m    393\u001b[0m \u001b[38;5;28mprint\u001b[39m(\u001b[38;5;124m\"\u001b[39m\u001b[38;5;124mMatrice done !\u001b[39m\u001b[38;5;124m\"\u001b[39m)  \n\u001b[0;32m    394\u001b[0m \u001b[38;5;28mprint\u001b[39m(\u001b[38;5;124m'\u001b[39m\u001b[38;5;124mGetting score per paper ...\u001b[39m\u001b[38;5;124m'\u001b[39m)     \n",
      "File \u001b[1;32mC:\\/Users//FlorenceBlandinieres//OneDrive - Technopolis Group Ltd//RD_pub_patentforecast//FB_novelty\\novelpy\\indicators\\Uzzi2013.py:370\u001b[0m, in \u001b[0;36mUzzi2013.compute_comb_score\u001b[1;34m(self)\u001b[0m\n\u001b[0;32m    367\u001b[0m \t\u001b[38;5;28mself\u001b[39m\u001b[38;5;241m.\u001b[39mget_all_adj()\n\u001b[0;32m    368\u001b[0m  \u001b[38;5;28mself\u001b[39m\u001b[38;5;241m.\u001b[39munique_values \u001b[38;5;241m=\u001b[39m get_unique_value_used(\u001b[38;5;28mself\u001b[39m\u001b[38;5;241m.\u001b[39mall_sampled_adj_freq)\n\u001b[1;32m--> 370\u001b[0m  mean_adj_freq, sd_adj_freq \u001b[38;5;241m=\u001b[39m \u001b[43mget_comb_mean_sd\u001b[49m\u001b[43m(\u001b[49m\u001b[38;5;28;43mself\u001b[39;49m\u001b[38;5;241;43m.\u001b[39;49m\u001b[43mpath_score\u001b[49m\u001b[43m,\u001b[49m\n\u001b[0;32m    371\u001b[0m \u001b[43m                                               \u001b[49m\u001b[38;5;28;43mself\u001b[39;49m\u001b[38;5;241;43m.\u001b[39;49m\u001b[43mall_sampled_adj_freq\u001b[49m\u001b[43m,\u001b[49m\n\u001b[0;32m    372\u001b[0m \u001b[43m                                               \u001b[49m\u001b[38;5;28;43mself\u001b[39;49m\u001b[38;5;241;43m.\u001b[39;49m\u001b[43munique_values\u001b[49m\u001b[43m,\u001b[49m\n\u001b[0;32m    373\u001b[0m \u001b[43m                                               \u001b[49m\u001b[38;5;28;43mself\u001b[39;49m\u001b[38;5;241;43m.\u001b[39;49m\u001b[43mvariable\u001b[49m\u001b[43m,\u001b[49m\n\u001b[0;32m    374\u001b[0m \u001b[43m                                               \u001b[49m\u001b[38;5;28;43mself\u001b[39;49m\u001b[38;5;241;43m.\u001b[39;49m\u001b[43mfocal_year\u001b[49m\u001b[43m)\u001b[49m\n\u001b[0;32m    376\u001b[0m  comb_scores \u001b[38;5;241m=\u001b[39m (\u001b[38;5;28mself\u001b[39m\u001b[38;5;241m.\u001b[39mcurrent_adj\u001b[38;5;241m-\u001b[39mmean_adj_freq)\u001b[38;5;241m/\u001b[39msd_adj_freq  \n\u001b[0;32m    377\u001b[0m  comb_scores[np\u001b[38;5;241m.\u001b[39misinf(comb_scores)] \u001b[38;5;241m=\u001b[39m  \u001b[38;5;28;01mNone\u001b[39;00m\n",
      "File \u001b[1;32mC:\\/Users//FlorenceBlandinieres//OneDrive - Technopolis Group Ltd//RD_pub_patentforecast//FB_novelty\\novelpy\\indicators\\Uzzi2013.py:220\u001b[0m, in \u001b[0;36mget_comb_mean_sd\u001b[1;34m(path2, all_sampled_adj_freq, unique_values, variable, focal_year)\u001b[0m\n\u001b[0;32m    218\u001b[0m \u001b[38;5;28;01mfor\u001b[39;00m value \u001b[38;5;129;01min\u001b[39;00m tqdm\u001b[38;5;241m.\u001b[39mtqdm(unique_values[i:]):\n\u001b[0;32m    219\u001b[0m     i\u001b[38;5;241m+\u001b[39m\u001b[38;5;241m=\u001b[39m\u001b[38;5;241m1\u001b[39m\n\u001b[1;32m--> 220\u001b[0m     value, mean, sd \u001b[38;5;241m=\u001b[39m \u001b[43mget_cell_mean_sd\u001b[49m\u001b[43m(\u001b[49m\u001b[43mvalue\u001b[49m\u001b[43m,\u001b[49m\u001b[43mall_sampled_adj_freq\u001b[49m\u001b[43m)\u001b[49m\n\u001b[0;32m    221\u001b[0m     mean_comb[value[\u001b[38;5;241m0\u001b[39m],value[\u001b[38;5;241m1\u001b[39m]] \u001b[38;5;241m=\u001b[39m mean\n\u001b[0;32m    222\u001b[0m     sd_comb[value[\u001b[38;5;241m0\u001b[39m],value[\u001b[38;5;241m1\u001b[39m]] \u001b[38;5;241m=\u001b[39m sd\n",
      "File \u001b[1;32mC:\\/Users//FlorenceBlandinieres//OneDrive - Technopolis Group Ltd//RD_pub_patentforecast//FB_novelty\\novelpy\\indicators\\Uzzi2013.py:148\u001b[0m, in \u001b[0;36mget_cell_mean_sd\u001b[1;34m(value, all_sampled_adj_freq)\u001b[0m\n\u001b[0;32m    146\u001b[0m count \u001b[38;5;241m=\u001b[39m []\n\u001b[0;32m    147\u001b[0m \u001b[38;5;28;01mfor\u001b[39;00m sampled_adj \u001b[38;5;129;01min\u001b[39;00m all_sampled_adj_freq:\n\u001b[1;32m--> 148\u001b[0m     count\u001b[38;5;241m.\u001b[39mappend(\u001b[43msampled_adj\u001b[49m\u001b[43m[\u001b[49m\u001b[43mvalue\u001b[49m\u001b[43m[\u001b[49m\u001b[38;5;241;43m0\u001b[39;49m\u001b[43m]\u001b[49m\u001b[43m,\u001b[49m\u001b[43mvalue\u001b[49m\u001b[43m[\u001b[49m\u001b[38;5;241;43m1\u001b[39;49m\u001b[43m]\u001b[49m\u001b[43m]\u001b[49m)\n\u001b[0;32m    149\u001b[0m \u001b[38;5;28;01mreturn\u001b[39;00m value, np\u001b[38;5;241m.\u001b[39mmean(count), np\u001b[38;5;241m.\u001b[39mstd(count)\n",
      "File \u001b[1;32mc:\\Users\\FlorenceBlandinieres\\AppData\\Local\\Programs\\Python\\Python311\\Lib\\site-packages\\scipy\\sparse\\_index.py:52\u001b[0m, in \u001b[0;36mIndexMixin.__getitem__\u001b[1;34m(self, key)\u001b[0m\n\u001b[0;32m     50\u001b[0m \u001b[38;5;28;01mif\u001b[39;00m \u001b[38;5;28misinstance\u001b[39m(row, INT_TYPES):\n\u001b[0;32m     51\u001b[0m     \u001b[38;5;28;01mif\u001b[39;00m \u001b[38;5;28misinstance\u001b[39m(col, INT_TYPES):\n\u001b[1;32m---> 52\u001b[0m         \u001b[38;5;28;01mreturn\u001b[39;00m \u001b[38;5;28;43mself\u001b[39;49m\u001b[38;5;241;43m.\u001b[39;49m\u001b[43m_get_intXint\u001b[49m\u001b[43m(\u001b[49m\u001b[43mrow\u001b[49m\u001b[43m,\u001b[49m\u001b[43m \u001b[49m\u001b[43mcol\u001b[49m\u001b[43m)\u001b[49m\n\u001b[0;32m     53\u001b[0m     \u001b[38;5;28;01melif\u001b[39;00m \u001b[38;5;28misinstance\u001b[39m(col, \u001b[38;5;28mslice\u001b[39m):\n\u001b[0;32m     54\u001b[0m         \u001b[38;5;28mself\u001b[39m\u001b[38;5;241m.\u001b[39m_raise_on_1d_array_slice()\n",
      "File \u001b[1;32mc:\\Users\\FlorenceBlandinieres\\AppData\\Local\\Programs\\Python\\Python311\\Lib\\site-packages\\scipy\\sparse\\_compressed.py:657\u001b[0m, in \u001b[0;36m_cs_matrix._get_intXint\u001b[1;34m(self, row, col)\u001b[0m\n\u001b[0;32m    655\u001b[0m M, N \u001b[38;5;241m=\u001b[39m \u001b[38;5;28mself\u001b[39m\u001b[38;5;241m.\u001b[39m_swap(\u001b[38;5;28mself\u001b[39m\u001b[38;5;241m.\u001b[39mshape)\n\u001b[0;32m    656\u001b[0m major, minor \u001b[38;5;241m=\u001b[39m \u001b[38;5;28mself\u001b[39m\u001b[38;5;241m.\u001b[39m_swap((row, col))\n\u001b[1;32m--> 657\u001b[0m indptr, indices, data \u001b[38;5;241m=\u001b[39m \u001b[43mget_csr_submatrix\u001b[49m\u001b[43m(\u001b[49m\n\u001b[0;32m    658\u001b[0m \u001b[43m    \u001b[49m\u001b[43mM\u001b[49m\u001b[43m,\u001b[49m\u001b[43m \u001b[49m\u001b[43mN\u001b[49m\u001b[43m,\u001b[49m\u001b[43m \u001b[49m\u001b[38;5;28;43mself\u001b[39;49m\u001b[38;5;241;43m.\u001b[39;49m\u001b[43mindptr\u001b[49m\u001b[43m,\u001b[49m\u001b[43m \u001b[49m\u001b[38;5;28;43mself\u001b[39;49m\u001b[38;5;241;43m.\u001b[39;49m\u001b[43mindices\u001b[49m\u001b[43m,\u001b[49m\u001b[43m \u001b[49m\u001b[38;5;28;43mself\u001b[39;49m\u001b[38;5;241;43m.\u001b[39;49m\u001b[43mdata\u001b[49m\u001b[43m,\u001b[49m\n\u001b[0;32m    659\u001b[0m \u001b[43m    \u001b[49m\u001b[43mmajor\u001b[49m\u001b[43m,\u001b[49m\u001b[43m \u001b[49m\u001b[43mmajor\u001b[49m\u001b[43m \u001b[49m\u001b[38;5;241;43m+\u001b[39;49m\u001b[43m \u001b[49m\u001b[38;5;241;43m1\u001b[39;49m\u001b[43m,\u001b[49m\u001b[43m \u001b[49m\u001b[43mminor\u001b[49m\u001b[43m,\u001b[49m\u001b[43m \u001b[49m\u001b[43mminor\u001b[49m\u001b[43m \u001b[49m\u001b[38;5;241;43m+\u001b[39;49m\u001b[43m \u001b[49m\u001b[38;5;241;43m1\u001b[39;49m\u001b[43m)\u001b[49m\n\u001b[0;32m    660\u001b[0m \u001b[38;5;28;01mreturn\u001b[39;00m data\u001b[38;5;241m.\u001b[39msum(dtype\u001b[38;5;241m=\u001b[39m\u001b[38;5;28mself\u001b[39m\u001b[38;5;241m.\u001b[39mdtype)\n",
      "\u001b[1;31mKeyboardInterrupt\u001b[0m: "
     ]
    }
   ],
   "source": [
    "for focal_year in tqdm.tqdm(range(2000,2011), desc = \"Computing indicator for window of time\"):\n",
    "    Uzzi = novelpy.indicators.Uzzi2013(collection_name = \"Ref_Journals_sample\",\n",
    "                                           id_variable = 'PMID',\n",
    "                                           year_variable = 'year',\n",
    "                                           variable = \"c04_referencelist\",\n",
    "                                           sub_variable = \"item\",\n",
    "                                           focal_year = focal_year,\n",
    "                                           density = True)\n",
    "    Uzzi.get_indicator()"
   ]
  },
  {
   "cell_type": "markdown",
   "metadata": {},
   "source": [
    "Generate all novel indicators at once"
   ]
  },
  {
   "cell_type": "code",
   "execution_count": 30,
   "metadata": {},
   "outputs": [
    {
     "name": "stderr",
     "output_type": "stream",
     "text": [
      "for every year:   0%|          | 0/21 [00:00<?, ?it/s]"
     ]
    },
    {
     "name": "stderr",
     "output_type": "stream",
     "text": [
      "Get item list, loop on every doc: 100%|██████████| 38874/38874 [00:00<00:00, 1069218.29it/s]\n",
      "Get item list, loop on every doc: 100%|██████████| 40946/40946 [00:00<00:00, 1250992.27it/s]\n",
      "Get item list, loop on every doc: 100%|██████████| 42302/42302 [00:00<00:00, 1101438.65it/s]\n",
      "Get item list, loop on every doc: 100%|██████████| 44803/44803 [00:00<00:00, 1511416.23it/s]\n",
      "Get item list, loop on every doc: 100%|██████████| 46779/46779 [00:00<00:00, 1473389.20it/s]\n",
      "Get item list, loop on every doc: 100%|██████████| 49872/49872 [00:00<00:00, 1373146.87it/s]\n",
      "Get item list, loop on every doc: 100%|██████████| 52046/52046 [00:00<00:00, 1419419.26it/s]\n",
      "Get item list, loop on every doc: 100%|██████████| 54721/54721 [00:00<00:00, 1212813.73it/s]\n",
      "Get item list, loop on every doc: 100%|██████████| 58439/58439 [00:00<00:00, 1265800.79it/s]\n",
      "Get item list, loop on every doc: 100%|██████████| 62241/62241 [00:00<00:00, 557520.11it/s]\n",
      "Get item list, loop on every doc: 100%|██████████| 67361/67361 [00:00<00:00, 784507.45it/s]\n",
      "Get item list, loop on every doc: 100%|██████████| 70501/70501 [00:00<00:00, 1084200.32it/s]\n",
      "Get item list, loop on every doc: 100%|██████████| 75717/75717 [00:00<00:00, 707248.67it/s]\n",
      "Get item list, loop on every doc: 100%|██████████| 81228/81228 [00:00<00:00, 724152.50it/s]\n",
      "Get item list, loop on every doc: 100%|██████████| 84496/84496 [00:00<00:00, 715036.08it/s]\n",
      "Get item list, loop on every doc: 100%|██████████| 89168/89168 [00:00<00:00, 855737.94it/s]\n",
      "Get item list, loop on every doc: 100%|██████████| 93185/93185 [00:00<00:00, 736715.93it/s]\n",
      "Get item list, loop on every doc: 100%|██████████| 100470/100470 [00:00<00:00, 502202.01it/s]\n",
      "Get item list, loop on every doc: 100%|██████████| 103192/103192 [00:00<00:00, 709255.02it/s]\n",
      "Get item list, loop on every doc: 100%|██████████| 106454/106454 [00:00<00:00, 655620.40it/s]\n",
      "Get item list, loop on every doc: 100%|██████████| 106557/106557 [00:00<00:00, 593970.42it/s]\n",
      "for every year: 100%|██████████| 21/21 [00:15<00:00,  1.35it/s]\n",
      "Populate matrix: 100%|██████████| 38874/38874 [00:01<00:00, 25836.87it/s]\n",
      "Populate matrix: 100%|██████████| 40946/40946 [00:00<00:00, 77102.30it/s]\n",
      "Populate matrix: 100%|██████████| 42302/42302 [00:01<00:00, 32723.35it/s]\n",
      "Populate matrix: 100%|██████████| 44803/44803 [00:01<00:00, 31123.22it/s]\n",
      "Populate matrix: 100%|██████████| 46779/46779 [00:01<00:00, 29587.18it/s]\n",
      "Populate matrix: 100%|██████████| 49872/49872 [00:02<00:00, 22179.99it/s]\n",
      "Populate matrix: 100%|██████████| 52046/52046 [00:02<00:00, 24161.54it/s]\n",
      "Populate matrix: 100%|██████████| 54721/54721 [00:02<00:00, 27097.61it/s]\n",
      "Populate matrix: 100%|██████████| 58439/58439 [00:02<00:00, 27602.79it/s]\n",
      "Populate matrix: 100%|██████████| 62241/62241 [00:02<00:00, 22898.59it/s]\n",
      "Populate matrix: 100%|██████████| 67361/67361 [00:03<00:00, 20346.44it/s]\n",
      "Populate matrix: 100%|██████████| 70501/70501 [00:02<00:00, 23578.82it/s]\n",
      "Populate matrix: 100%|██████████| 75717/75717 [00:02<00:00, 27338.58it/s]\n",
      "Populate matrix: 100%|██████████| 81228/81228 [00:03<00:00, 26732.34it/s]\n",
      "Populate matrix: 100%|██████████| 84496/84496 [00:03<00:00, 27633.45it/s]\n",
      "Populate matrix: 100%|██████████| 89168/89168 [00:02<00:00, 29769.49it/s]\n",
      "Populate matrix: 100%|██████████| 93185/93185 [00:03<00:00, 28578.59it/s]\n",
      "Populate matrix: 100%|██████████| 100470/100470 [00:04<00:00, 24900.52it/s]\n",
      "Populate matrix: 100%|██████████| 103192/103192 [00:03<00:00, 29384.26it/s]\n",
      "Populate matrix: 100%|██████████| 106454/106454 [00:03<00:00, 27651.52it/s]\n",
      "Populate matrix: 100%|██████████| 106557/106557 [00:04<00:00, 25501.60it/s]\n",
      "For each year in range: 100%|██████████| 21/21 [01:34<00:00,  4.52s/it]\n",
      "Get item list, loop on every doc: 100%|██████████| 38874/38874 [00:00<00:00, 86398.74it/s]\n",
      "Get item list, loop on every doc: 100%|██████████| 40946/40946 [00:00<00:00, 76099.60it/s]\n",
      "Get item list, loop on every doc: 100%|██████████| 42302/42302 [00:00<00:00, 69003.36it/s]\n",
      "Get item list, loop on every doc: 100%|██████████| 44803/44803 [00:00<00:00, 73617.55it/s]\n",
      "Get item list, loop on every doc: 100%|██████████| 46779/46779 [00:00<00:00, 78656.25it/s]\n",
      "Get item list, loop on every doc: 100%|██████████| 49872/49872 [00:00<00:00, 72514.59it/s]\n",
      "Get item list, loop on every doc: 100%|██████████| 52046/52046 [00:00<00:00, 89710.27it/s]\n",
      "Get item list, loop on every doc: 100%|██████████| 54721/54721 [00:00<00:00, 64993.32it/s]\n",
      "Get item list, loop on every doc: 100%|██████████| 58439/58439 [00:00<00:00, 59356.71it/s]\n",
      "Get item list, loop on every doc: 100%|██████████| 62241/62241 [00:01<00:00, 58117.22it/s]\n",
      "Get item list, loop on every doc: 100%|██████████| 67361/67361 [00:01<00:00, 57561.14it/s]\n",
      "Get item list, loop on every doc: 100%|██████████| 70501/70501 [00:01<00:00, 58118.59it/s]\n",
      "Get item list, loop on every doc: 100%|██████████| 75717/75717 [00:01<00:00, 59454.54it/s]\n",
      "Get item list, loop on every doc: 100%|██████████| 81228/81228 [00:01<00:00, 55358.35it/s]\n",
      "Get item list, loop on every doc: 100%|██████████| 84496/84496 [00:00<00:00, 104793.39it/s]\n",
      "Get item list, loop on every doc: 100%|██████████| 89168/89168 [00:00<00:00, 123253.86it/s]\n",
      "Get item list, loop on every doc: 100%|██████████| 93185/93185 [00:00<00:00, 111494.76it/s]\n",
      "Get item list, loop on every doc: 100%|██████████| 100470/100470 [00:00<00:00, 108569.10it/s]\n",
      "Get item list, loop on every doc: 100%|██████████| 103192/103192 [00:00<00:00, 249206.65it/s]\n",
      "Get item list, loop on every doc: 100%|██████████| 106454/106454 [00:00<00:00, 167804.82it/s]\n",
      "Get item list, loop on every doc: 100%|██████████| 106557/106557 [00:00<00:00, 192842.12it/s]\n",
      "for every year: 100%|██████████| 21/21 [03:24<00:00,  9.71s/it]\n",
      "Populate matrix: 100%|██████████| 38874/38874 [00:43<00:00, 894.24it/s]\n",
      "Populate matrix: 100%|██████████| 40946/40946 [01:16<00:00, 537.11it/s]\n",
      "Populate matrix: 100%|██████████| 42302/42302 [00:56<00:00, 743.93it/s]\n",
      "Populate matrix: 100%|██████████| 44803/44803 [01:04<00:00, 698.63it/s]\n",
      "Populate matrix: 100%|██████████| 46779/46779 [01:02<00:00, 744.51it/s]\n",
      "Populate matrix: 100%|██████████| 49872/49872 [01:07<00:00, 734.83it/s]\n",
      "Populate matrix: 100%|██████████| 52046/52046 [01:12<00:00, 716.62it/s]\n",
      "Populate matrix: 100%|██████████| 54721/54721 [02:55<00:00, 311.88it/s]\n",
      "Populate matrix: 100%|██████████| 58439/58439 [01:42<00:00, 571.76it/s]\n",
      "Populate matrix: 100%|██████████| 62241/62241 [03:13<00:00, 320.84it/s]\n",
      "Populate matrix: 100%|██████████| 67361/67361 [02:00<00:00, 558.39it/s]]\n",
      "Populate matrix: 100%|██████████| 70501/70501 [03:52<00:00, 303.70it/s]]\n",
      "Populate matrix: 100%|██████████| 75717/75717 [03:15<00:00, 387.41it/s]]\n",
      "Populate matrix: 100%|██████████| 81228/81228 [02:40<00:00, 505.70it/s]]\n",
      "Populate matrix: 100%|██████████| 84496/84496 [03:42<00:00, 379.29it/s]]\n",
      "Populate matrix: 100%|██████████| 89168/89168 [05:07<00:00, 289.68it/s]]\n",
      "Populate matrix: 100%|██████████| 93185/93185 [04:55<00:00, 315.25it/s]]\n",
      "Populate matrix: 100%|██████████| 100470/100470 [04:01<00:00, 415.74it/s] \n",
      "Populate matrix: 100%|██████████| 103192/103192 [02:47<00:00, 614.99it/s]\n",
      "Populate matrix: 100%|██████████| 106454/106454 [02:15<00:00, 785.83it/s] \n",
      "Populate matrix: 100%|██████████| 106557/106557 [02:24<00:00, 737.32it/s]\n",
      "For each year in range: 100%|██████████| 21/21 [55:55<00:00, 159.79s/it]\n",
      "Get item list, loop on every doc: 100%|██████████| 38874/38874 [00:00<00:00, 254782.96it/s]\n",
      "Get item list, loop on every doc: 100%|██████████| 40946/40946 [00:00<00:00, 229990.00it/s]\n",
      "Get item list, loop on every doc: 100%|██████████| 42302/42302 [00:00<00:00, 270393.65it/s]\n",
      "Get item list, loop on every doc: 100%|██████████| 44803/44803 [00:00<00:00, 268524.02it/s]\n",
      "Get item list, loop on every doc: 100%|██████████| 46779/46779 [00:00<00:00, 262112.13it/s]\n",
      "Get item list, loop on every doc: 100%|██████████| 49872/49872 [00:00<00:00, 145815.00it/s]\n",
      "Get item list, loop on every doc: 100%|██████████| 52046/52046 [00:00<00:00, 216630.64it/s]\n",
      "Get item list, loop on every doc: 100%|██████████| 54721/54721 [00:00<00:00, 119655.39it/s]\n",
      "Get item list, loop on every doc: 100%|██████████| 58439/58439 [00:00<00:00, 118617.43it/s]\n",
      "Get item list, loop on every doc: 100%|██████████| 62241/62241 [00:00<00:00, 275039.01it/s]\n",
      "Get item list, loop on every doc: 100%|██████████| 67361/67361 [00:00<00:00, 122849.20it/s]\n",
      "Get item list, loop on every doc: 100%|██████████| 70501/70501 [00:00<00:00, 270057.68it/s]\n",
      "Get item list, loop on every doc: 100%|██████████| 75717/75717 [00:00<00:00, 252604.64it/s]\n",
      "Get item list, loop on every doc: 100%|██████████| 81228/81228 [00:00<00:00, 260133.82it/s]\n",
      "Get item list, loop on every doc: 100%|██████████| 84496/84496 [00:00<00:00, 210542.96it/s]\n",
      "Get item list, loop on every doc: 100%|██████████| 89168/89168 [00:00<00:00, 120962.43it/s]\n",
      "Get item list, loop on every doc: 100%|██████████| 93185/93185 [00:01<00:00, 61124.90it/s]\n",
      "Get item list, loop on every doc: 100%|██████████| 100470/100470 [00:00<00:00, 185861.99it/s]\n",
      "Get item list, loop on every doc: 100%|██████████| 103192/103192 [00:00<00:00, 169381.74it/s]\n",
      "Get item list, loop on every doc: 100%|██████████| 106454/106454 [00:00<00:00, 147150.71it/s]\n",
      "Get item list, loop on every doc: 100%|██████████| 106557/106557 [00:01<00:00, 78666.11it/s]\n",
      "for every year: 100%|██████████| 21/21 [02:00<00:00,  5.73s/it]\n",
      "Populate matrix: 100%|██████████| 38874/38874 [00:54<00:00, 717.75it/s] \n",
      "Populate matrix: 100%|██████████| 40946/40946 [00:42<00:00, 961.08it/s] \n",
      "Populate matrix: 100%|██████████| 42302/42302 [00:56<00:00, 749.28it/s]\n",
      "Populate matrix: 100%|██████████| 44803/44803 [00:59<00:00, 756.23it/s]\n",
      "Populate matrix: 100%|██████████| 46779/46779 [00:54<00:00, 864.42it/s] \n",
      "Populate matrix: 100%|██████████| 49872/49872 [01:10<00:00, 706.97it/s] \n",
      "Populate matrix: 100%|██████████| 52046/52046 [01:11<00:00, 724.29it/s]\n",
      "Populate matrix: 100%|██████████| 54721/54721 [01:09<00:00, 787.84it/s] \n",
      "Populate matrix: 100%|██████████| 58439/58439 [01:18<00:00, 747.07it/s] \n",
      "Populate matrix: 100%|██████████| 62241/62241 [01:36<00:00, 642.21it/s] \n",
      "Populate matrix: 100%|██████████| 67361/67361 [01:30<00:00, 740.60it/s] \n",
      "Populate matrix: 100%|██████████| 70501/70501 [01:38<00:00, 716.19it/s] \n",
      "Populate matrix: 100%|██████████| 75717/75717 [01:51<00:00, 676.35it/s] \n",
      "Populate matrix: 100%|██████████| 81228/81228 [02:04<00:00, 650.02it/s]]\n",
      "Populate matrix: 100%|██████████| 84496/84496 [02:24<00:00, 583.06it/s]]\n",
      "Populate matrix: 100%|██████████| 89168/89168 [02:27<00:00, 605.28it/s] \n",
      "Populate matrix: 100%|██████████| 93185/93185 [02:27<00:00, 632.96it/s]]\n",
      "Populate matrix: 100%|██████████| 100470/100470 [02:42<00:00, 619.45it/s]\n",
      "Populate matrix: 100%|██████████| 103192/103192 [02:55<00:00, 587.84it/s] \n",
      "Populate matrix: 100%|██████████| 106454/106454 [03:04<00:00, 577.83it/s]\n",
      "Populate matrix: 100%|██████████| 106557/106557 [03:04<00:00, 578.78it/s]\n",
      "For each year in range: 100%|██████████| 21/21 [39:48<00:00, 113.76s/it]\n",
      "Computing indicator for window of time:   0%|          | 0/11 [00:00<?, ?it/s]"
     ]
    },
    {
     "name": "stdout",
     "output_type": "stream",
     "text": [
      "loading cooc for focal year 2000\n",
      "cooc loaded !\n",
      "loading items for papers in 2000\n"
     ]
    },
    {
     "name": "stderr",
     "output_type": "stream",
     "text": [
      "get_papers_item: 100%|██████████| 49872/49872 [00:00<00:00, 152027.64it/s]\n"
     ]
    },
    {
     "name": "stdout",
     "output_type": "stream",
     "text": [
      "items_loaded !\n",
      "Creating sample ...\n"
     ]
    },
    {
     "name": "stderr",
     "output_type": "stream",
     "text": []
    },
    {
     "name": "stdout",
     "output_type": "stream",
     "text": [
      "start sampling\n"
     ]
    },
    {
     "name": "stderr",
     "output_type": "stream",
     "text": []
    },
    {
     "name": "stdout",
     "output_type": "stream",
     "text": [
      "start sampling\n"
     ]
    },
    {
     "name": "stderr",
     "output_type": "stream",
     "text": []
    },
    {
     "name": "stdout",
     "output_type": "stream",
     "text": [
      "start sampling\n"
     ]
    },
    {
     "name": "stderr",
     "output_type": "stream",
     "text": []
    },
    {
     "name": "stdout",
     "output_type": "stream",
     "text": [
      "start sampling\n"
     ]
    },
    {
     "name": "stderr",
     "output_type": "stream",
     "text": []
    },
    {
     "name": "stdout",
     "output_type": "stream",
     "text": [
      "start sampling\n"
     ]
    },
    {
     "name": "stderr",
     "output_type": "stream",
     "text": []
    },
    {
     "name": "stdout",
     "output_type": "stream",
     "text": [
      "start sampling\n"
     ]
    },
    {
     "name": "stderr",
     "output_type": "stream",
     "text": []
    },
    {
     "name": "stdout",
     "output_type": "stream",
     "text": [
      "start sampling\n"
     ]
    },
    {
     "name": "stderr",
     "output_type": "stream",
     "text": []
    },
    {
     "name": "stdout",
     "output_type": "stream",
     "text": [
      "start sampling\n"
     ]
    },
    {
     "name": "stderr",
     "output_type": "stream",
     "text": []
    },
    {
     "name": "stdout",
     "output_type": "stream",
     "text": [
      "start sampling\n"
     ]
    },
    {
     "name": "stderr",
     "output_type": "stream",
     "text": []
    },
    {
     "name": "stdout",
     "output_type": "stream",
     "text": [
      "start sampling\n"
     ]
    },
    {
     "name": "stderr",
     "output_type": "stream",
     "text": []
    },
    {
     "name": "stdout",
     "output_type": "stream",
     "text": [
      "start sampling\n"
     ]
    },
    {
     "name": "stderr",
     "output_type": "stream",
     "text": []
    },
    {
     "name": "stdout",
     "output_type": "stream",
     "text": [
      "start sampling\n"
     ]
    },
    {
     "name": "stderr",
     "output_type": "stream",
     "text": []
    },
    {
     "name": "stdout",
     "output_type": "stream",
     "text": [
      "start sampling\n"
     ]
    },
    {
     "name": "stderr",
     "output_type": "stream",
     "text": []
    },
    {
     "name": "stdout",
     "output_type": "stream",
     "text": [
      "start sampling\n"
     ]
    },
    {
     "name": "stderr",
     "output_type": "stream",
     "text": []
    },
    {
     "name": "stdout",
     "output_type": "stream",
     "text": [
      "start sampling\n"
     ]
    },
    {
     "name": "stderr",
     "output_type": "stream",
     "text": []
    },
    {
     "name": "stdout",
     "output_type": "stream",
     "text": [
      "start sampling\n"
     ]
    },
    {
     "name": "stderr",
     "output_type": "stream",
     "text": []
    },
    {
     "name": "stdout",
     "output_type": "stream",
     "text": [
      "start sampling\n"
     ]
    },
    {
     "name": "stderr",
     "output_type": "stream",
     "text": []
    },
    {
     "name": "stdout",
     "output_type": "stream",
     "text": [
      "start sampling\n"
     ]
    },
    {
     "name": "stderr",
     "output_type": "stream",
     "text": []
    },
    {
     "name": "stdout",
     "output_type": "stream",
     "text": [
      "start sampling\n"
     ]
    },
    {
     "name": "stderr",
     "output_type": "stream",
     "text": []
    },
    {
     "name": "stdout",
     "output_type": "stream",
     "text": [
      "start sampling\n"
     ]
    },
    {
     "name": "stderr",
     "output_type": "stream",
     "text": [
      "Create sample network: 100%|██████████| 20/20 [52:16<00:00, 156.85s/it]\n"
     ]
    },
    {
     "name": "stdout",
     "output_type": "stream",
     "text": [
      "Sample created !\n",
      "Getting score per year ...\n"
     ]
    },
    {
     "name": "stderr",
     "output_type": "stream",
     "text": [
      "Get sample network: 100%|██████████| 20/20 [00:00<00:00, 93.14it/s]\n",
      "100%|██████████| 20/20 [00:46<00:00,  2.33s/it]\n",
      " 13%|█▎        | 2575922/19384423 [26:07<2:50:28, 1643.31it/s]\n",
      "Computing indicator for window of time:   0%|          | 0/11 [1:20:58<?, ?it/s]\n"
     ]
    },
    {
     "ename": "KeyboardInterrupt",
     "evalue": "",
     "output_type": "error",
     "traceback": [
      "\u001b[1;31m---------------------------------------------------------------------------\u001b[0m",
      "\u001b[1;31mKeyboardInterrupt\u001b[0m                         Traceback (most recent call last)",
      "Cell \u001b[1;32mIn[30], line 46\u001b[0m\n\u001b[0;32m     38\u001b[0m \u001b[38;5;28;01mfor\u001b[39;00m focal_year \u001b[38;5;129;01min\u001b[39;00m tqdm\u001b[38;5;241m.\u001b[39mtqdm(\u001b[38;5;28mrange\u001b[39m(\u001b[38;5;241m2000\u001b[39m,\u001b[38;5;241m2011\u001b[39m), desc \u001b[38;5;241m=\u001b[39m \u001b[38;5;124m\"\u001b[39m\u001b[38;5;124mComputing indicator for window of time\u001b[39m\u001b[38;5;124m\"\u001b[39m):\n\u001b[0;32m     39\u001b[0m     Uzzi \u001b[38;5;241m=\u001b[39m novelpy\u001b[38;5;241m.\u001b[39mindicators\u001b[38;5;241m.\u001b[39mUzzi2013(collection_name \u001b[38;5;241m=\u001b[39m \u001b[38;5;124m\"\u001b[39m\u001b[38;5;124mMeshterms_sample\u001b[39m\u001b[38;5;124m\"\u001b[39m,\n\u001b[0;32m     40\u001b[0m                                            id_variable \u001b[38;5;241m=\u001b[39m \u001b[38;5;124m'\u001b[39m\u001b[38;5;124mPMID\u001b[39m\u001b[38;5;124m'\u001b[39m,\n\u001b[0;32m     41\u001b[0m                                            year_variable \u001b[38;5;241m=\u001b[39m \u001b[38;5;124m'\u001b[39m\u001b[38;5;124myear\u001b[39m\u001b[38;5;124m'\u001b[39m,\n\u001b[1;32m   (...)\u001b[0m\n\u001b[0;32m     44\u001b[0m                                            focal_year \u001b[38;5;241m=\u001b[39m focal_year,\n\u001b[0;32m     45\u001b[0m                                            density \u001b[38;5;241m=\u001b[39m \u001b[38;5;28;01mTrue\u001b[39;00m)\n\u001b[1;32m---> 46\u001b[0m     \u001b[43mUzzi\u001b[49m\u001b[38;5;241;43m.\u001b[39;49m\u001b[43mget_indicator\u001b[49m\u001b[43m(\u001b[49m\u001b[43m)\u001b[49m\n\u001b[0;32m     48\u001b[0m \u001b[38;5;66;03m# Uzzi et al.(2013) Ref_Journals_sample\u001b[39;00m\n\u001b[0;32m     49\u001b[0m \u001b[38;5;28;01mfor\u001b[39;00m focal_year \u001b[38;5;129;01min\u001b[39;00m tqdm\u001b[38;5;241m.\u001b[39mtqdm(\u001b[38;5;28mrange\u001b[39m(\u001b[38;5;241m2000\u001b[39m,\u001b[38;5;241m2011\u001b[39m), desc \u001b[38;5;241m=\u001b[39m \u001b[38;5;124m\"\u001b[39m\u001b[38;5;124mComputing indicator for window of time\u001b[39m\u001b[38;5;124m\"\u001b[39m):\n",
      "File \u001b[1;32mC:\\/Users//FlorenceBlandinieres//OneDrive - Technopolis Group Ltd//RD_pub_patentforecast//FB_novelty\\novelpy\\indicators\\Uzzi2013.py:392\u001b[0m, in \u001b[0;36mUzzi2013.get_indicator\u001b[1;34m(self)\u001b[0m\n\u001b[0;32m    390\u001b[0m \u001b[38;5;28mprint\u001b[39m(\u001b[38;5;124m\"\u001b[39m\u001b[38;5;124mSample created !\u001b[39m\u001b[38;5;124m\"\u001b[39m)\n\u001b[0;32m    391\u001b[0m \u001b[38;5;28mprint\u001b[39m(\u001b[38;5;124m'\u001b[39m\u001b[38;5;124mGetting score per year ...\u001b[39m\u001b[38;5;124m'\u001b[39m)  \n\u001b[1;32m--> 392\u001b[0m \u001b[38;5;28;43mself\u001b[39;49m\u001b[38;5;241;43m.\u001b[39;49m\u001b[43mcompute_comb_score\u001b[49m\u001b[43m(\u001b[49m\u001b[43m)\u001b[49m\n\u001b[0;32m    393\u001b[0m \u001b[38;5;28mprint\u001b[39m(\u001b[38;5;124m\"\u001b[39m\u001b[38;5;124mMatrice done !\u001b[39m\u001b[38;5;124m\"\u001b[39m)  \n\u001b[0;32m    394\u001b[0m \u001b[38;5;28mprint\u001b[39m(\u001b[38;5;124m'\u001b[39m\u001b[38;5;124mGetting score per paper ...\u001b[39m\u001b[38;5;124m'\u001b[39m)     \n",
      "File \u001b[1;32mC:\\/Users//FlorenceBlandinieres//OneDrive - Technopolis Group Ltd//RD_pub_patentforecast//FB_novelty\\novelpy\\indicators\\Uzzi2013.py:370\u001b[0m, in \u001b[0;36mUzzi2013.compute_comb_score\u001b[1;34m(self)\u001b[0m\n\u001b[0;32m    367\u001b[0m \t\u001b[38;5;28mself\u001b[39m\u001b[38;5;241m.\u001b[39mget_all_adj()\n\u001b[0;32m    368\u001b[0m  \u001b[38;5;28mself\u001b[39m\u001b[38;5;241m.\u001b[39munique_values \u001b[38;5;241m=\u001b[39m get_unique_value_used(\u001b[38;5;28mself\u001b[39m\u001b[38;5;241m.\u001b[39mall_sampled_adj_freq)\n\u001b[1;32m--> 370\u001b[0m  mean_adj_freq, sd_adj_freq \u001b[38;5;241m=\u001b[39m \u001b[43mget_comb_mean_sd\u001b[49m\u001b[43m(\u001b[49m\u001b[38;5;28;43mself\u001b[39;49m\u001b[38;5;241;43m.\u001b[39;49m\u001b[43mpath_score\u001b[49m\u001b[43m,\u001b[49m\n\u001b[0;32m    371\u001b[0m \u001b[43m                                               \u001b[49m\u001b[38;5;28;43mself\u001b[39;49m\u001b[38;5;241;43m.\u001b[39;49m\u001b[43mall_sampled_adj_freq\u001b[49m\u001b[43m,\u001b[49m\n\u001b[0;32m    372\u001b[0m \u001b[43m                                               \u001b[49m\u001b[38;5;28;43mself\u001b[39;49m\u001b[38;5;241;43m.\u001b[39;49m\u001b[43munique_values\u001b[49m\u001b[43m,\u001b[49m\n\u001b[0;32m    373\u001b[0m \u001b[43m                                               \u001b[49m\u001b[38;5;28;43mself\u001b[39;49m\u001b[38;5;241;43m.\u001b[39;49m\u001b[43mvariable\u001b[49m\u001b[43m,\u001b[49m\n\u001b[0;32m    374\u001b[0m \u001b[43m                                               \u001b[49m\u001b[38;5;28;43mself\u001b[39;49m\u001b[38;5;241;43m.\u001b[39;49m\u001b[43mfocal_year\u001b[49m\u001b[43m)\u001b[49m\n\u001b[0;32m    376\u001b[0m  comb_scores \u001b[38;5;241m=\u001b[39m (\u001b[38;5;28mself\u001b[39m\u001b[38;5;241m.\u001b[39mcurrent_adj\u001b[38;5;241m-\u001b[39mmean_adj_freq)\u001b[38;5;241m/\u001b[39msd_adj_freq  \n\u001b[0;32m    377\u001b[0m  comb_scores[np\u001b[38;5;241m.\u001b[39misinf(comb_scores)] \u001b[38;5;241m=\u001b[39m  \u001b[38;5;28;01mNone\u001b[39;00m\n",
      "File \u001b[1;32mC:\\/Users//FlorenceBlandinieres//OneDrive - Technopolis Group Ltd//RD_pub_patentforecast//FB_novelty\\novelpy\\indicators\\Uzzi2013.py:220\u001b[0m, in \u001b[0;36mget_comb_mean_sd\u001b[1;34m(path2, all_sampled_adj_freq, unique_values, variable, focal_year)\u001b[0m\n\u001b[0;32m    218\u001b[0m \u001b[38;5;28;01mfor\u001b[39;00m value \u001b[38;5;129;01min\u001b[39;00m tqdm\u001b[38;5;241m.\u001b[39mtqdm(unique_values[i:]):\n\u001b[0;32m    219\u001b[0m     i\u001b[38;5;241m+\u001b[39m\u001b[38;5;241m=\u001b[39m\u001b[38;5;241m1\u001b[39m\n\u001b[1;32m--> 220\u001b[0m     value, mean, sd \u001b[38;5;241m=\u001b[39m \u001b[43mget_cell_mean_sd\u001b[49m\u001b[43m(\u001b[49m\u001b[43mvalue\u001b[49m\u001b[43m,\u001b[49m\u001b[43mall_sampled_adj_freq\u001b[49m\u001b[43m)\u001b[49m\n\u001b[0;32m    221\u001b[0m     mean_comb[value[\u001b[38;5;241m0\u001b[39m],value[\u001b[38;5;241m1\u001b[39m]] \u001b[38;5;241m=\u001b[39m mean\n\u001b[0;32m    222\u001b[0m     sd_comb[value[\u001b[38;5;241m0\u001b[39m],value[\u001b[38;5;241m1\u001b[39m]] \u001b[38;5;241m=\u001b[39m sd\n",
      "File \u001b[1;32mC:\\/Users//FlorenceBlandinieres//OneDrive - Technopolis Group Ltd//RD_pub_patentforecast//FB_novelty\\novelpy\\indicators\\Uzzi2013.py:148\u001b[0m, in \u001b[0;36mget_cell_mean_sd\u001b[1;34m(value, all_sampled_adj_freq)\u001b[0m\n\u001b[0;32m    146\u001b[0m count \u001b[38;5;241m=\u001b[39m []\n\u001b[0;32m    147\u001b[0m \u001b[38;5;28;01mfor\u001b[39;00m sampled_adj \u001b[38;5;129;01min\u001b[39;00m all_sampled_adj_freq:\n\u001b[1;32m--> 148\u001b[0m     count\u001b[38;5;241m.\u001b[39mappend(\u001b[43msampled_adj\u001b[49m\u001b[43m[\u001b[49m\u001b[43mvalue\u001b[49m\u001b[43m[\u001b[49m\u001b[38;5;241;43m0\u001b[39;49m\u001b[43m]\u001b[49m\u001b[43m,\u001b[49m\u001b[43mvalue\u001b[49m\u001b[43m[\u001b[49m\u001b[38;5;241;43m1\u001b[39;49m\u001b[43m]\u001b[49m\u001b[43m]\u001b[49m)\n\u001b[0;32m    149\u001b[0m \u001b[38;5;28;01mreturn\u001b[39;00m value, np\u001b[38;5;241m.\u001b[39mmean(count), np\u001b[38;5;241m.\u001b[39mstd(count)\n",
      "File \u001b[1;32mc:\\Users\\FlorenceBlandinieres\\AppData\\Local\\Programs\\Python\\Python311\\Lib\\site-packages\\scipy\\sparse\\_index.py:52\u001b[0m, in \u001b[0;36mIndexMixin.__getitem__\u001b[1;34m(self, key)\u001b[0m\n\u001b[0;32m     50\u001b[0m \u001b[38;5;28;01mif\u001b[39;00m \u001b[38;5;28misinstance\u001b[39m(row, INT_TYPES):\n\u001b[0;32m     51\u001b[0m     \u001b[38;5;28;01mif\u001b[39;00m \u001b[38;5;28misinstance\u001b[39m(col, INT_TYPES):\n\u001b[1;32m---> 52\u001b[0m         \u001b[38;5;28;01mreturn\u001b[39;00m \u001b[38;5;28;43mself\u001b[39;49m\u001b[38;5;241;43m.\u001b[39;49m\u001b[43m_get_intXint\u001b[49m\u001b[43m(\u001b[49m\u001b[43mrow\u001b[49m\u001b[43m,\u001b[49m\u001b[43m \u001b[49m\u001b[43mcol\u001b[49m\u001b[43m)\u001b[49m\n\u001b[0;32m     53\u001b[0m     \u001b[38;5;28;01melif\u001b[39;00m \u001b[38;5;28misinstance\u001b[39m(col, \u001b[38;5;28mslice\u001b[39m):\n\u001b[0;32m     54\u001b[0m         \u001b[38;5;28mself\u001b[39m\u001b[38;5;241m.\u001b[39m_raise_on_1d_array_slice()\n",
      "File \u001b[1;32mc:\\Users\\FlorenceBlandinieres\\AppData\\Local\\Programs\\Python\\Python311\\Lib\\site-packages\\scipy\\sparse\\_compressed.py:657\u001b[0m, in \u001b[0;36m_cs_matrix._get_intXint\u001b[1;34m(self, row, col)\u001b[0m\n\u001b[0;32m    655\u001b[0m M, N \u001b[38;5;241m=\u001b[39m \u001b[38;5;28mself\u001b[39m\u001b[38;5;241m.\u001b[39m_swap(\u001b[38;5;28mself\u001b[39m\u001b[38;5;241m.\u001b[39mshape)\n\u001b[0;32m    656\u001b[0m major, minor \u001b[38;5;241m=\u001b[39m \u001b[38;5;28mself\u001b[39m\u001b[38;5;241m.\u001b[39m_swap((row, col))\n\u001b[1;32m--> 657\u001b[0m indptr, indices, data \u001b[38;5;241m=\u001b[39m \u001b[43mget_csr_submatrix\u001b[49m\u001b[43m(\u001b[49m\n\u001b[0;32m    658\u001b[0m \u001b[43m    \u001b[49m\u001b[43mM\u001b[49m\u001b[43m,\u001b[49m\u001b[43m \u001b[49m\u001b[43mN\u001b[49m\u001b[43m,\u001b[49m\u001b[43m \u001b[49m\u001b[38;5;28;43mself\u001b[39;49m\u001b[38;5;241;43m.\u001b[39;49m\u001b[43mindptr\u001b[49m\u001b[43m,\u001b[49m\u001b[43m \u001b[49m\u001b[38;5;28;43mself\u001b[39;49m\u001b[38;5;241;43m.\u001b[39;49m\u001b[43mindices\u001b[49m\u001b[43m,\u001b[49m\u001b[43m \u001b[49m\u001b[38;5;28;43mself\u001b[39;49m\u001b[38;5;241;43m.\u001b[39;49m\u001b[43mdata\u001b[49m\u001b[43m,\u001b[49m\n\u001b[0;32m    659\u001b[0m \u001b[43m    \u001b[49m\u001b[43mmajor\u001b[49m\u001b[43m,\u001b[49m\u001b[43m \u001b[49m\u001b[43mmajor\u001b[49m\u001b[43m \u001b[49m\u001b[38;5;241;43m+\u001b[39;49m\u001b[43m \u001b[49m\u001b[38;5;241;43m1\u001b[39;49m\u001b[43m,\u001b[49m\u001b[43m \u001b[49m\u001b[43mminor\u001b[49m\u001b[43m,\u001b[49m\u001b[43m \u001b[49m\u001b[43mminor\u001b[49m\u001b[43m \u001b[49m\u001b[38;5;241;43m+\u001b[39;49m\u001b[43m \u001b[49m\u001b[38;5;241;43m1\u001b[39;49m\u001b[43m)\u001b[49m\n\u001b[0;32m    660\u001b[0m \u001b[38;5;28;01mreturn\u001b[39;00m data\u001b[38;5;241m.\u001b[39msum(dtype\u001b[38;5;241m=\u001b[39m\u001b[38;5;28mself\u001b[39m\u001b[38;5;241m.\u001b[39mdtype)\n",
      "\u001b[1;31mKeyboardInterrupt\u001b[0m: "
     ]
    }
   ],
   "source": [
    "import novelpy\n",
    "import tqdm\n",
    "\n",
    "# all the cooc possible not including the one done above: 10 tasks performed\n",
    "\n",
    "ref_cooc = novelpy.utils.cooc_utils.create_cooc(\n",
    "                 collection_name = \"Ref_Journals_sample\",\n",
    "                 year_var=\"year\",\n",
    "                 var = \"c04_referencelist\",\n",
    "                 sub_var = \"item\",\n",
    "                 time_window = range(1995,2016),\n",
    "                 weighted_network = False, self_loop = False)\n",
    "\n",
    "ref_cooc.main()\n",
    "\n",
    "ref_cooc = novelpy.utils.cooc_utils.create_cooc(\n",
    "                 collection_name = \"Meshterms_sample\",\n",
    "                 year_var=\"year\",\n",
    "                 var = \"Mesh_year_category\",\n",
    "                 sub_var = \"descUI\",\n",
    "                 time_window = range(1995,2016),\n",
    "                 weighted_network = True, self_loop = True)\n",
    "\n",
    "ref_cooc.main()\n",
    "\n",
    "ref_cooc = novelpy.utils.cooc_utils.create_cooc(\n",
    "                 collection_name = \"Meshterms_sample\",\n",
    "                 year_var=\"year\",\n",
    "                 var = \"Mesh_year_category\",\n",
    "                 sub_var = \"descUI\",\n",
    "                 time_window = range(1995,2016),\n",
    "                 weighted_network = False, self_loop = False)\n",
    "\n",
    "ref_cooc.main()\n",
    "\n",
    "\n",
    "# Uzzi et al.(2013) Meshterms_sample\n",
    "for focal_year in tqdm.tqdm(range(2000,2011), desc = \"Computing indicator for window of time\"):\n",
    "    Uzzi = novelpy.indicators.Uzzi2013(collection_name = \"Meshterms_sample\",\n",
    "                                           id_variable = 'PMID',\n",
    "                                           year_variable = 'year',\n",
    "                                           variable = \"Mesh_year_category\",\n",
    "                                           sub_variable = \"descUI\",\n",
    "                                           focal_year = focal_year,\n",
    "                                           density = True)\n",
    "    Uzzi.get_indicator()\n",
    "\n",
    "# Uzzi et al.(2013) Ref_Journals_sample\n",
    "for focal_year in tqdm.tqdm(range(2000,2011), desc = \"Computing indicator for window of time\"):\n",
    "    Uzzi = novelpy.indicators.Uzzi2013(collection_name = \"Ref_Journals_sample\",\n",
    "                                           id_variable = 'PMID',\n",
    "                                           year_variable = 'year',\n",
    "                                           variable = \"c04_referencelist\",\n",
    "                                           sub_variable = \"item\",\n",
    "                                           focal_year = focal_year,\n",
    "                                           density = True)\n",
    "    Uzzi.get_indicator()\n",
    "\n",
    "# Foster et al.(2015) Meshterms_sample\n",
    "for focal_year in tqdm.tqdm(range(2000,2011), desc = \"Computing indicator for window of time\"):\n",
    "    Foster = novelpy.indicators.Foster2015(collection_name = \"Meshterms_sample\",\n",
    "                                           id_variable = 'PMID',\n",
    "                                           year_variable = 'year',\n",
    "                                           variable = \"Mesh_year_category\",\n",
    "                                           sub_variable = \"descUI\",\n",
    "                                           focal_year = focal_year,\n",
    "                                           starting_year = 1995,\n",
    "                                           community_algorithm = \"Louvain\",\n",
    "                                           density = True)\n",
    "    Foster.get_indicator()\n",
    "\n",
    "# Lee et al.(2015) Meshterms_sample\n",
    "for focal_year in tqdm.tqdm(range(2000,2011), desc = \"Computing indicator for window of time\"):\n",
    "    Lee = novelpy.indicators.Lee2015(collection_name = \"Meshterms_sample\",\n",
    "                                           id_variable = 'PMID',\n",
    "                                           year_variable = 'year',\n",
    "                                           variable = \"Mesh_year_category\",\n",
    "                                           sub_variable = \"descUI\",\n",
    "                                           focal_year = focal_year,\n",
    "                                           density = True)\n",
    "    Lee.get_indicator()\n",
    "\n",
    "# Lee et al.(2015) Ref_Journals_sample\n",
    "for focal_year in tqdm.tqdm(range(2000,2011), desc = \"Computing indicator for window of time\"):\n",
    "    Lee = novelpy.indicators.Lee2015(collection_name = \"Ref_Journals_sample\",\n",
    "                                           id_variable = 'PMID',\n",
    "                                           year_variable = 'year',\n",
    "                                           variable = \"c04_referencelist\",\n",
    "                                           sub_variable = \"item\",\n",
    "                                           focal_year = focal_year,\n",
    "                                           density = True)\n",
    "    Lee.get_indicator()\n",
    "\n",
    "# Wang et al.(2017) Meshterms_sample\n",
    "for focal_year in tqdm.tqdm(range(2000,2011)):\n",
    "    Wang = novelpy.indicators.Wang2017(collection_name = \"Meshterms_sample\",\n",
    "                                           id_variable = 'PMID',\n",
    "                                           year_variable = 'year',\n",
    "                                           variable = \"Mesh_year_category\",\n",
    "                                           sub_variable = \"descUI\",\n",
    "                                           focal_year = focal_year,\n",
    "                                           time_window_cooc = 3,\n",
    "                                           n_reutilisation = 1,\n",
    "                                           starting_year = 1995,\n",
    "                                           density = True)\n",
    "    Wang.get_indicator()\n",
    "\n",
    "\n",
    "# Wang et al.(2017) Ref_Journals_sample\n",
    "for focal_year in tqdm.tqdm(range(2000,2011)):\n",
    "    Wang = novelpy.indicators.Wang2017(collection_name = \"Ref_Journals_sample\",\n",
    "                                           id_variable = 'PMID',\n",
    "                                           year_variable = 'year',\n",
    "                                           variable = \"c04_referencelist\",\n",
    "                                           sub_variable = \"item\",\n",
    "                                           focal_year = focal_year,\n",
    "                                           time_window_cooc = 3,\n",
    "                                           n_reutilisation = 1,\n",
    "                                           starting_year = 1995,\n",
    "                                           density = True)\n",
    "    Wang.get_indicator()"
   ]
  },
  {
   "cell_type": "markdown",
   "metadata": {},
   "source": [
    "Shibaya et al. \n",
    "Here requires the title or abstracts for articles cited by focal papers and, therefore, the id for each paper cited (examples available within the “Title_abs_sample” and “Citation_net_sample” datasets). We then embed the articles using spacy and do a cosine similarity between the embeddings of cited papers for focal papers. One can find a pre train here https://pypi.org/project/scispacy/. We used en_core_sci_lg-0.4.0"
   ]
  },
  {
   "cell_type": "code",
   "execution_count": null,
   "metadata": {},
   "outputs": [],
   "source": [
    "from novelpy.utils.embedding import Embedding\n",
    "\n",
    "embedding = Embedding(\n",
    "            year_variable = 'year',\n",
    "            time_range = range(2000,2011),\n",
    "            id_variable = 'PMID',\n",
    "            references_variable = 'refs_pmid_wos',\n",
    "            pretrain_path = 'en_core_sci_lg-0.4.0/en_core_sci_lg/en_core_sci_lg-0.4.0',\n",
    "            title_variable = 'ArticleTitle',\n",
    "            abstract_variable = 'a04_abstract',\n",
    "            abstract_subvariable = 'AbstractText')\n",
    "\n",
    "# articles\n",
    "\n",
    "embedding.get_articles_centroid(\n",
    "      collection_articles = 'Title_abs_sample',\n",
    "      collection_embedding = 'embedding',\n",
    "      year_range = range(2000,2011,1))"
   ]
  }
 ],
 "metadata": {
  "kernelspec": {
   "display_name": "Python 3",
   "language": "python",
   "name": "python3"
  },
  "language_info": {
   "codemirror_mode": {
    "name": "ipython",
    "version": 3
   },
   "file_extension": ".py",
   "mimetype": "text/x-python",
   "name": "python",
   "nbconvert_exporter": "python",
   "pygments_lexer": "ipython3",
   "version": "3.11.2"
  }
 },
 "nbformat": 4,
 "nbformat_minor": 2
}
